{
 "cells": [
  {
   "cell_type": "markdown",
   "metadata": {},
   "source": [
    "# Diamonds ANOVA Analysis"
   ]
  },
  {
   "cell_type": "markdown",
   "metadata": {},
   "source": [
    "## **Introduction**\n",
    "\n",
    "In this project, I will use Python to perform one-way and two-way ANOVA to analyze how categorical factors influence a continuous dependent variable. One-way ANOVA will help determine whether there are significant differences in the means of a dependent variable across three or more groups of a single categorical variable. Two-way ANOVA will extend this analysis by incorporating two categorical variables, allowing me to assess both their individual effects and any potential interaction between them. Additionally, I will apply a post hoc test to further investigate significant differences identified in the one-way ANOVA. Through this analysis, I aim to gain deeper insights into the relationships between categorical groupings and numerical outcomes, supporting data-driven decision-making."
   ]
  },
  {
   "cell_type": "markdown",
   "metadata": {},
   "source": [
    "## **Overview**  \n",
    "\n",
    "This project investigates the relationship between diamond characteristics (color and cut) and their prices using statistical analysis in Python. The goal is to determine whether diamond color grades and cuts significantly impact price and to identify specific pairwise differences between groups. The analysis employs one-way and two-way ANOVA tests, followed by post hoc analysis to uncover detailed insights.  \n",
    "\n",
    "To achieve this, I will:  \n",
    "\n",
    "- **Perform Exploratory Data Analysis (EDA):** Examine the distribution of diamond prices across different color grades and cuts using visualizations such as boxplots to identify trends and variations.  \n",
    "\n",
    "- **Conduct Data Cleaning:** Subset the dataset to focus on relevant diamond color grades (D, E, F, H, I) and cuts (Ideal, Premium, Very Good), remove missing values, and transform price data using logarithms for better modeling.  \n",
    "\n",
    "- **Build Regression Models:** Construct linear regression models to assess the relationship between diamond price and categorical predictors (color and cut), including interaction terms for two-way ANOVA.  \n",
    "\n",
    "- **Apply ANOVA Tests:** Perform one-way ANOVA to evaluate price differences across color grades and two-way ANOVA to analyze the combined effects of color and cut, along with their interaction.  \n",
    "\n",
    "- **Run Post Hoc Analysis:** Use Tukey’s HSD test to identify which specific color grades have statistically significant price differences, controlling for multiple comparisons.  \n",
    "\n",
    "- **Interpret and Summarize Findings:** Translate statistical results into actionable insights, such as which diamond color grades and cuts command higher prices and whether interactions between these factors influence pricing.  \n",
    "\n",
    "By executing this workflow, I aim to provide data-driven insights into how diamond color and cut affect pricing, supporting informed decision-making for buyers, sellers, and industry analysts."
   ]
  },
  {
   "cell_type": "markdown",
   "metadata": {},
   "source": [
    "## **Dataset Structure**  \n",
    "\n",
    "### **Diamonds Dataset**  \n",
    "This dataset contains information on the physical and qualitative attributes of diamonds, including carat weight, cut quality, color, clarity, and pricing. The dataset helps analyze factors influencing diamond prices and evaluate trends in the diamond market.  \n",
    "\n",
    "#### **Dataset: Diamonds Data**  \n",
    "This dataset includes the following features:  \n",
    "\n",
    "- **Carat**: The weight of the diamond in carats.  \n",
    "- **Cut**: The quality of the diamond cut (Ideal, Premium, Very Good, Good, Fair).  \n",
    "- **Color**: The color grade of the diamond, ranging from D (colorless) to J (tinted).  \n",
    "- **Clarity**: The clarity rating, indicating the presence of inclusions or blemishes.  \n",
    "- **Depth**: The total depth percentage of the diamond.\n",
    "- **Table**: The width of the top facet of the diamond relative to its width.  \n",
    "- **Price**: The price of the diamond in US dollars.  \n",
    "- **X, Y, Z**: The physical dimensions of the diamond (length, width, and depth in mm).  \n",
    "\n",
    "This dataset will be used to **analyze the relationships between diamond characteristics and pricing, apply statistical modeling techniques, and gain insights into factors that impact diamond valuation.**"
   ]
  },
  {
   "cell_type": "markdown",
   "metadata": {},
   "source": [
    "## Importing Required Libraries\n",
    "Before beginning the analysis, it is essential to import all necessary libraries. "
   ]
  },
  {
   "cell_type": "code",
   "execution_count": 149,
   "metadata": {},
   "outputs": [],
   "source": [
    "import pandas as pd\n",
    "import seaborn as sns\n",
    "import math\n",
    "import statsmodels.api as sm\n",
    "from statsmodels.formula.api import ols\n",
    "from statsmodels.stats.multicomp import pairwise_tukeyhsd"
   ]
  },
  {
   "cell_type": "markdown",
   "metadata": {},
   "source": [
    "# One-way and two-way ANOVA (Part I)"
   ]
  },
  {
   "cell_type": "markdown",
   "metadata": {},
   "source": [
    "First, I load the `diamonds` dataset from the `seaborn` package:  \n"
   ]
  },
  {
   "cell_type": "code",
   "execution_count": 150,
   "metadata": {},
   "outputs": [
    {
     "data": {
      "text/html": [
       "<div>\n",
       "<style scoped>\n",
       "    .dataframe tbody tr th:only-of-type {\n",
       "        vertical-align: middle;\n",
       "    }\n",
       "\n",
       "    .dataframe tbody tr th {\n",
       "        vertical-align: top;\n",
       "    }\n",
       "\n",
       "    .dataframe thead th {\n",
       "        text-align: right;\n",
       "    }\n",
       "</style>\n",
       "<table border=\"1\" class=\"dataframe\">\n",
       "  <thead>\n",
       "    <tr style=\"text-align: right;\">\n",
       "      <th></th>\n",
       "      <th>carat</th>\n",
       "      <th>cut</th>\n",
       "      <th>color</th>\n",
       "      <th>clarity</th>\n",
       "      <th>depth</th>\n",
       "      <th>table</th>\n",
       "      <th>price</th>\n",
       "      <th>x</th>\n",
       "      <th>y</th>\n",
       "      <th>z</th>\n",
       "    </tr>\n",
       "  </thead>\n",
       "  <tbody>\n",
       "    <tr>\n",
       "      <th>0</th>\n",
       "      <td>0.23</td>\n",
       "      <td>Ideal</td>\n",
       "      <td>E</td>\n",
       "      <td>SI2</td>\n",
       "      <td>61.5</td>\n",
       "      <td>55.0</td>\n",
       "      <td>326</td>\n",
       "      <td>3.95</td>\n",
       "      <td>3.98</td>\n",
       "      <td>2.43</td>\n",
       "    </tr>\n",
       "    <tr>\n",
       "      <th>1</th>\n",
       "      <td>0.21</td>\n",
       "      <td>Premium</td>\n",
       "      <td>E</td>\n",
       "      <td>SI1</td>\n",
       "      <td>59.8</td>\n",
       "      <td>61.0</td>\n",
       "      <td>326</td>\n",
       "      <td>3.89</td>\n",
       "      <td>3.84</td>\n",
       "      <td>2.31</td>\n",
       "    </tr>\n",
       "    <tr>\n",
       "      <th>2</th>\n",
       "      <td>0.23</td>\n",
       "      <td>Good</td>\n",
       "      <td>E</td>\n",
       "      <td>VS1</td>\n",
       "      <td>56.9</td>\n",
       "      <td>65.0</td>\n",
       "      <td>327</td>\n",
       "      <td>4.05</td>\n",
       "      <td>4.07</td>\n",
       "      <td>2.31</td>\n",
       "    </tr>\n",
       "    <tr>\n",
       "      <th>3</th>\n",
       "      <td>0.29</td>\n",
       "      <td>Premium</td>\n",
       "      <td>I</td>\n",
       "      <td>VS2</td>\n",
       "      <td>62.4</td>\n",
       "      <td>58.0</td>\n",
       "      <td>334</td>\n",
       "      <td>4.20</td>\n",
       "      <td>4.23</td>\n",
       "      <td>2.63</td>\n",
       "    </tr>\n",
       "    <tr>\n",
       "      <th>4</th>\n",
       "      <td>0.31</td>\n",
       "      <td>Good</td>\n",
       "      <td>J</td>\n",
       "      <td>SI2</td>\n",
       "      <td>63.3</td>\n",
       "      <td>58.0</td>\n",
       "      <td>335</td>\n",
       "      <td>4.34</td>\n",
       "      <td>4.35</td>\n",
       "      <td>2.75</td>\n",
       "    </tr>\n",
       "  </tbody>\n",
       "</table>\n",
       "</div>"
      ],
      "text/plain": [
       "   carat      cut color clarity  depth  table  price     x     y     z\n",
       "0   0.23    Ideal     E     SI2   61.5   55.0    326  3.95  3.98  2.43\n",
       "1   0.21  Premium     E     SI1   59.8   61.0    326  3.89  3.84  2.31\n",
       "2   0.23     Good     E     VS1   56.9   65.0    327  4.05  4.07  2.31\n",
       "3   0.29  Premium     I     VS2   62.4   58.0    334  4.20  4.23  2.63\n",
       "4   0.31     Good     J     SI2   63.3   58.0    335  4.34  4.35  2.75"
      ]
     },
     "execution_count": 150,
     "metadata": {},
     "output_type": "execute_result"
    }
   ],
   "source": [
    "diamonds = sns.load_dataset(\"diamonds\", cache=False)\n",
    "diamonds.head()"
   ]
  },
  {
   "cell_type": "markdown",
   "metadata": {},
   "source": [
    "### **One-Way ANOVA: Testing Price Differences by Color Grade**"
   ]
  },
  {
   "cell_type": "markdown",
   "metadata": {},
   "source": [
    "### Data Cleaning - Preparing for One-Way ANOVA"
   ]
  },
  {
   "cell_type": "markdown",
   "metadata": {},
   "source": [
    "### Data Preparation and Feature Engineering\n",
    "\n",
    "### **Initial Data Exploration**"
   ]
  },
  {
   "cell_type": "code",
   "execution_count": 151,
   "metadata": {},
   "outputs": [
    {
     "data": {
      "text/plain": [
       "color\n",
       "G    11292\n",
       "E     9797\n",
       "F     9542\n",
       "H     8304\n",
       "D     6775\n",
       "I     5422\n",
       "J     2808\n",
       "Name: count, dtype: int64"
      ]
     },
     "execution_count": 151,
     "metadata": {},
     "output_type": "execute_result"
    }
   ],
   "source": [
    "diamonds[\"color\"].value_counts()"
   ]
  },
  {
   "cell_type": "code",
   "execution_count": 152,
   "metadata": {},
   "outputs": [
    {
     "data": {
      "text/plain": [
       "['E', 'I', 'J', 'H', 'F', 'G', 'D']\n",
       "Categories (7, object): ['D', 'E', 'F', 'G', 'H', 'I', 'J']"
      ]
     },
     "execution_count": 152,
     "metadata": {},
     "output_type": "execute_result"
    }
   ],
   "source": [
    "diamonds['color'].unique()\n"
   ]
  },
  {
   "cell_type": "markdown",
   "metadata": {},
   "source": [
    "Since the analysis requires a continuous variable and one categorical variable, I subset the dataset to include only relevant columns. Specifically, I focus on colorless diamonds:"
   ]
  },
  {
   "cell_type": "code",
   "execution_count": 153,
   "metadata": {},
   "outputs": [],
   "source": [
    "diamonds_colorless = diamonds[diamonds[\"color\"].isin([\"E\", \"F\", \"H\", \"D\", \"I\"])]\n",
    "diamonds_colorless = diamonds_colorless[[\"color\", \"price\"]].reset_index(drop=True)"
   ]
  },
  {
   "cell_type": "markdown",
   "metadata": {},
   "source": [
    "To balance the dataset, I exclude **G** (overrepresented) and **J** (underrepresented) diamonds. The dropped categories are removed as follows:"
   ]
  },
  {
   "cell_type": "code",
   "execution_count": 154,
   "metadata": {},
   "outputs": [],
   "source": [
    "diamonds_colorless.color = diamonds_colorless.color.cat.remove_categories([\"G\", \"J\"])\n"
   ]
  },
  {
   "cell_type": "markdown",
   "metadata": {},
   "source": [
    "Next, I transform the **price** variable using a logarithmic scale:\n"
   ]
  },
  {
   "cell_type": "code",
   "execution_count": 155,
   "metadata": {},
   "outputs": [],
   "source": [
    "diamonds_colorless.insert(2, \"log_price\", [math.log(price) for price in diamonds_colorless[\"price\"]])\n"
   ]
  },
  {
   "cell_type": "markdown",
   "metadata": {},
   "source": [
    "Finally, I drop missing values and reset the index:\n"
   ]
  },
  {
   "cell_type": "code",
   "execution_count": 156,
   "metadata": {},
   "outputs": [],
   "source": [
    "diamonds_colorless.dropna(inplace=True)\n",
    "diamonds_colorless.reset_index(inplace=True, drop=True)"
   ]
  },
  {
   "cell_type": "code",
   "execution_count": 157,
   "metadata": {},
   "outputs": [
    {
     "data": {
      "text/html": [
       "<div>\n",
       "<style scoped>\n",
       "    .dataframe tbody tr th:only-of-type {\n",
       "        vertical-align: middle;\n",
       "    }\n",
       "\n",
       "    .dataframe tbody tr th {\n",
       "        vertical-align: top;\n",
       "    }\n",
       "\n",
       "    .dataframe thead th {\n",
       "        text-align: right;\n",
       "    }\n",
       "</style>\n",
       "<table border=\"1\" class=\"dataframe\">\n",
       "  <thead>\n",
       "    <tr style=\"text-align: right;\">\n",
       "      <th></th>\n",
       "      <th>color</th>\n",
       "      <th>price</th>\n",
       "      <th>log_price</th>\n",
       "    </tr>\n",
       "  </thead>\n",
       "  <tbody>\n",
       "    <tr>\n",
       "      <th>0</th>\n",
       "      <td>E</td>\n",
       "      <td>326</td>\n",
       "      <td>5.786897</td>\n",
       "    </tr>\n",
       "    <tr>\n",
       "      <th>1</th>\n",
       "      <td>E</td>\n",
       "      <td>326</td>\n",
       "      <td>5.786897</td>\n",
       "    </tr>\n",
       "    <tr>\n",
       "      <th>2</th>\n",
       "      <td>E</td>\n",
       "      <td>327</td>\n",
       "      <td>5.789960</td>\n",
       "    </tr>\n",
       "    <tr>\n",
       "      <th>3</th>\n",
       "      <td>I</td>\n",
       "      <td>334</td>\n",
       "      <td>5.811141</td>\n",
       "    </tr>\n",
       "    <tr>\n",
       "      <th>4</th>\n",
       "      <td>I</td>\n",
       "      <td>336</td>\n",
       "      <td>5.817111</td>\n",
       "    </tr>\n",
       "  </tbody>\n",
       "</table>\n",
       "</div>"
      ],
      "text/plain": [
       "  color  price  log_price\n",
       "0     E    326   5.786897\n",
       "1     E    326   5.786897\n",
       "2     E    327   5.789960\n",
       "3     I    334   5.811141\n",
       "4     I    336   5.817111"
      ]
     },
     "execution_count": 157,
     "metadata": {},
     "output_type": "execute_result"
    }
   ],
   "source": [
    "diamonds_colorless.head()"
   ]
  },
  {
   "cell_type": "markdown",
   "metadata": {},
   "source": [
    "The cleaned dataset is saved as a CSV file:\n"
   ]
  },
  {
   "cell_type": "code",
   "execution_count": 158,
   "metadata": {},
   "outputs": [],
   "source": [
    "diamonds_colorless.to_csv(r'Data/diamonds_color.csv', index=False, header=list(diamonds_colorless.columns))"
   ]
  },
  {
   "cell_type": "markdown",
   "metadata": {},
   "source": [
    "### One-Way ANOVA\n",
    "\n",
    "To run a one-way ANOVA, I first load the data and save it as a variable called diamonds_color. Then, I examine the dataset using the head() function to get an overview of its structure and contents."
   ]
  },
  {
   "cell_type": "code",
   "execution_count": 159,
   "metadata": {},
   "outputs": [],
   "source": [
    "diamonds_color = pd.read_csv(r\"C:\\Users\\saswa\\Documents\\GitHub\\Diamonds-ANOVA-Analysis\\Data\\diamonds_color.csv\")\n"
   ]
  },
  {
   "cell_type": "code",
   "execution_count": 160,
   "metadata": {},
   "outputs": [
    {
     "data": {
      "text/html": [
       "<div>\n",
       "<style scoped>\n",
       "    .dataframe tbody tr th:only-of-type {\n",
       "        vertical-align: middle;\n",
       "    }\n",
       "\n",
       "    .dataframe tbody tr th {\n",
       "        vertical-align: top;\n",
       "    }\n",
       "\n",
       "    .dataframe thead th {\n",
       "        text-align: right;\n",
       "    }\n",
       "</style>\n",
       "<table border=\"1\" class=\"dataframe\">\n",
       "  <thead>\n",
       "    <tr style=\"text-align: right;\">\n",
       "      <th></th>\n",
       "      <th>color</th>\n",
       "      <th>price</th>\n",
       "      <th>log_price</th>\n",
       "    </tr>\n",
       "  </thead>\n",
       "  <tbody>\n",
       "    <tr>\n",
       "      <th>0</th>\n",
       "      <td>E</td>\n",
       "      <td>326</td>\n",
       "      <td>5.786897</td>\n",
       "    </tr>\n",
       "    <tr>\n",
       "      <th>1</th>\n",
       "      <td>E</td>\n",
       "      <td>326</td>\n",
       "      <td>5.786897</td>\n",
       "    </tr>\n",
       "    <tr>\n",
       "      <th>2</th>\n",
       "      <td>E</td>\n",
       "      <td>327</td>\n",
       "      <td>5.789960</td>\n",
       "    </tr>\n",
       "    <tr>\n",
       "      <th>3</th>\n",
       "      <td>I</td>\n",
       "      <td>334</td>\n",
       "      <td>5.811141</td>\n",
       "    </tr>\n",
       "    <tr>\n",
       "      <th>4</th>\n",
       "      <td>I</td>\n",
       "      <td>336</td>\n",
       "      <td>5.817111</td>\n",
       "    </tr>\n",
       "  </tbody>\n",
       "</table>\n",
       "</div>"
      ],
      "text/plain": [
       "  color  price  log_price\n",
       "0     E    326   5.786897\n",
       "1     E    326   5.786897\n",
       "2     E    327   5.789960\n",
       "3     I    334   5.811141\n",
       "4     I    336   5.817111"
      ]
     },
     "execution_count": 160,
     "metadata": {},
     "output_type": "execute_result"
    }
   ],
   "source": [
    "diamonds_color.head()"
   ]
  },
  {
   "cell_type": "markdown",
   "metadata": {},
   "source": [
    "One-way ANOVA helps me better understand the relationship between a categorical variable and a continuous variable. To start, I perform some basic exploratory data analysis by creating a boxplot using the boxplot() function from the seaborn package."
   ]
  },
  {
   "cell_type": "code",
   "execution_count": 161,
   "metadata": {},
   "outputs": [
    {
     "data": {
      "text/plain": [
       "<Axes: xlabel='color', ylabel='log_price'>"
      ]
     },
     "execution_count": 161,
     "metadata": {},
     "output_type": "execute_result"
    },
    {
     "data": {
      "image/png": "[encoded data removed]",
      "text/plain": [
       "<Figure size 640x480 with 1 Axes>"
      ]
     },
     "metadata": {},
     "output_type": "display_data"
    }
   ],
   "source": [
    "sns.boxplot(x=\"color\", y=\"log_price\", data=diamonds_color)\n"
   ]
  },
  {
   "cell_type": "markdown",
   "metadata": {},
   "source": [
    "\n",
    "Based on the plot, I observe that there is a lot of overlap in the distribution of log_price for each color of diamond. However, I can't yet determine whether these differences are statistically significant. To confirm this, I will need to conduct a formal one-way ANOVA test."
   ]
  },
  {
   "cell_type": "markdown",
   "metadata": {},
   "source": [
    "To run ANOVA, I need to create a regression model. To do this,I will create a simple linear regression model where the independent variable (`X`) is `color`, which I will code as categorical using `C()`. Then, I will fit the model to the data and generate model summary statistics.  "
   ]
  },
  {
   "cell_type": "code",
   "execution_count": 162,
   "metadata": {},
   "outputs": [
    {
     "data": {
      "text/html": [
       "<table class=\"simpletable\">\n",
       "<caption>OLS Regression Results</caption>\n",
       "<tr>\n",
       "  <th>Dep. Variable:</th>        <td>log_price</td>    <th>  R-squared:         </th> <td>   0.026</td> \n",
       "</tr>\n",
       "<tr>\n",
       "  <th>Model:</th>                   <td>OLS</td>       <th>  Adj. R-squared:    </th> <td>   0.026</td> \n",
       "</tr>\n",
       "<tr>\n",
       "  <th>Method:</th>             <td>Least Squares</td>  <th>  F-statistic:       </th> <td>   265.0</td> \n",
       "</tr>\n",
       "<tr>\n",
       "  <th>Date:</th>             <td>Fri, 28 Mar 2025</td> <th>  Prob (F-statistic):</th> <td>3.61e-225</td>\n",
       "</tr>\n",
       "<tr>\n",
       "  <th>Time:</th>                 <td>21:31:12</td>     <th>  Log-Likelihood:    </th> <td> -56182.</td> \n",
       "</tr>\n",
       "<tr>\n",
       "  <th>No. Observations:</th>      <td> 39840</td>      <th>  AIC:               </th> <td>1.124e+05</td>\n",
       "</tr>\n",
       "<tr>\n",
       "  <th>Df Residuals:</th>          <td> 39835</td>      <th>  BIC:               </th> <td>1.124e+05</td>\n",
       "</tr>\n",
       "<tr>\n",
       "  <th>Df Model:</th>              <td>     4</td>      <th>                     </th>     <td> </td>    \n",
       "</tr>\n",
       "<tr>\n",
       "  <th>Covariance Type:</th>      <td>nonrobust</td>    <th>                     </th>     <td> </td>    \n",
       "</tr>\n",
       "</table>\n",
       "<table class=\"simpletable\">\n",
       "<tr>\n",
       "        <td></td>           <th>coef</th>     <th>std err</th>      <th>t</th>      <th>P>|t|</th>  <th>[0.025</th>    <th>0.975]</th>  \n",
       "</tr>\n",
       "<tr>\n",
       "  <th>Intercept</th>     <td>    7.6169</td> <td>    0.012</td> <td>  632.421</td> <td> 0.000</td> <td>    7.593</td> <td>    7.641</td>\n",
       "</tr>\n",
       "<tr>\n",
       "  <th>C(color)[T.E]</th> <td>   -0.0375</td> <td>    0.016</td> <td>   -2.394</td> <td> 0.017</td> <td>   -0.068</td> <td>   -0.007</td>\n",
       "</tr>\n",
       "<tr>\n",
       "  <th>C(color)[T.F]</th> <td>    0.1455</td> <td>    0.016</td> <td>    9.240</td> <td> 0.000</td> <td>    0.115</td> <td>    0.176</td>\n",
       "</tr>\n",
       "<tr>\n",
       "  <th>C(color)[T.H]</th> <td>    0.3015</td> <td>    0.016</td> <td>   18.579</td> <td> 0.000</td> <td>    0.270</td> <td>    0.333</td>\n",
       "</tr>\n",
       "<tr>\n",
       "  <th>C(color)[T.I]</th> <td>    0.4061</td> <td>    0.018</td> <td>   22.479</td> <td> 0.000</td> <td>    0.371</td> <td>    0.441</td>\n",
       "</tr>\n",
       "</table>\n",
       "<table class=\"simpletable\">\n",
       "<tr>\n",
       "  <th>Omnibus:</th>       <td>7112.992</td> <th>  Durbin-Watson:     </th> <td>   0.065</td>\n",
       "</tr>\n",
       "<tr>\n",
       "  <th>Prob(Omnibus):</th>  <td> 0.000</td>  <th>  Jarque-Bera (JB):  </th> <td>1542.881</td>\n",
       "</tr>\n",
       "<tr>\n",
       "  <th>Skew:</th>           <td> 0.079</td>  <th>  Prob(JB):          </th> <td>    0.00</td>\n",
       "</tr>\n",
       "<tr>\n",
       "  <th>Kurtosis:</th>       <td> 2.049</td>  <th>  Cond. No.          </th> <td>    6.32</td>\n",
       "</tr>\n",
       "</table><br/><br/>Notes:<br/>[1] Standard Errors assume that the covariance matrix of the errors is correctly specified."
      ],
      "text/latex": [
       "\\begin{center}\n",
       "\\begin{tabular}{lclc}\n",
       "\\toprule\n",
       "\\textbf{Dep. Variable:}    &    log\\_price    & \\textbf{  R-squared:         } &     0.026   \\\\\n",
       "\\textbf{Model:}            &       OLS        & \\textbf{  Adj. R-squared:    } &     0.026   \\\\\n",
       "\\textbf{Method:}           &  Least Squares   & \\textbf{  F-statistic:       } &     265.0   \\\\\n",
       "\\textbf{Date:}             & Fri, 28 Mar 2025 & \\textbf{  Prob (F-statistic):} & 3.61e-225   \\\\\n",
       "\\textbf{Time:}             &     21:31:12     & \\textbf{  Log-Likelihood:    } &   -56182.   \\\\\n",
       "\\textbf{No. Observations:} &       39840      & \\textbf{  AIC:               } & 1.124e+05   \\\\\n",
       "\\textbf{Df Residuals:}     &       39835      & \\textbf{  BIC:               } & 1.124e+05   \\\\\n",
       "\\textbf{Df Model:}         &           4      & \\textbf{                     } &             \\\\\n",
       "\\textbf{Covariance Type:}  &    nonrobust     & \\textbf{                     } &             \\\\\n",
       "\\bottomrule\n",
       "\\end{tabular}\n",
       "\\begin{tabular}{lcccccc}\n",
       "                       & \\textbf{coef} & \\textbf{std err} & \\textbf{t} & \\textbf{P$> |$t$|$} & \\textbf{[0.025} & \\textbf{0.975]}  \\\\\n",
       "\\midrule\n",
       "\\textbf{Intercept}     &       7.6169  &        0.012     &   632.421  &         0.000        &        7.593    &        7.641     \\\\\n",
       "\\textbf{C(color)[T.E]} &      -0.0375  &        0.016     &    -2.394  &         0.017        &       -0.068    &       -0.007     \\\\\n",
       "\\textbf{C(color)[T.F]} &       0.1455  &        0.016     &     9.240  &         0.000        &        0.115    &        0.176     \\\\\n",
       "\\textbf{C(color)[T.H]} &       0.3015  &        0.016     &    18.579  &         0.000        &        0.270    &        0.333     \\\\\n",
       "\\textbf{C(color)[T.I]} &       0.4061  &        0.018     &    22.479  &         0.000        &        0.371    &        0.441     \\\\\n",
       "\\bottomrule\n",
       "\\end{tabular}\n",
       "\\begin{tabular}{lclc}\n",
       "\\textbf{Omnibus:}       & 7112.992 & \\textbf{  Durbin-Watson:     } &    0.065  \\\\\n",
       "\\textbf{Prob(Omnibus):} &   0.000  & \\textbf{  Jarque-Bera (JB):  } & 1542.881  \\\\\n",
       "\\textbf{Skew:}          &   0.079  & \\textbf{  Prob(JB):          } &     0.00  \\\\\n",
       "\\textbf{Kurtosis:}      &   2.049  & \\textbf{  Cond. No.          } &     6.32  \\\\\n",
       "\\bottomrule\n",
       "\\end{tabular}\n",
       "%\\caption{OLS Regression Results}\n",
       "\\end{center}\n",
       "\n",
       "Notes: \\newline\n",
       " [1] Standard Errors assume that the covariance matrix of the errors is correctly specified."
      ],
      "text/plain": [
       "<class 'statsmodels.iolib.summary.Summary'>\n",
       "\"\"\"\n",
       "                            OLS Regression Results                            \n",
       "==============================================================================\n",
       "Dep. Variable:              log_price   R-squared:                       0.026\n",
       "Model:                            OLS   Adj. R-squared:                  0.026\n",
       "Method:                 Least Squares   F-statistic:                     265.0\n",
       "Date:                Fri, 28 Mar 2025   Prob (F-statistic):          3.61e-225\n",
       "Time:                        21:31:12   Log-Likelihood:                -56182.\n",
       "No. Observations:               39840   AIC:                         1.124e+05\n",
       "Df Residuals:                   39835   BIC:                         1.124e+05\n",
       "Df Model:                           4                                         \n",
       "Covariance Type:            nonrobust                                         \n",
       "=================================================================================\n",
       "                    coef    std err          t      P>|t|      [0.025      0.975]\n",
       "---------------------------------------------------------------------------------\n",
       "Intercept         7.6169      0.012    632.421      0.000       7.593       7.641\n",
       "C(color)[T.E]    -0.0375      0.016     -2.394      0.017      -0.068      -0.007\n",
       "C(color)[T.F]     0.1455      0.016      9.240      0.000       0.115       0.176\n",
       "C(color)[T.H]     0.3015      0.016     18.579      0.000       0.270       0.333\n",
       "C(color)[T.I]     0.4061      0.018     22.479      0.000       0.371       0.441\n",
       "==============================================================================\n",
       "Omnibus:                     7112.992   Durbin-Watson:                   0.065\n",
       "Prob(Omnibus):                  0.000   Jarque-Bera (JB):             1542.881\n",
       "Skew:                           0.079   Prob(JB):                         0.00\n",
       "Kurtosis:                       2.049   Cond. No.                         6.32\n",
       "==============================================================================\n",
       "\n",
       "Notes:\n",
       "[1] Standard Errors assume that the covariance matrix of the errors is correctly specified.\n",
       "\"\"\""
      ]
     },
     "execution_count": 162,
     "metadata": {},
     "output_type": "execute_result"
    }
   ],
   "source": [
    "model1 = ols(formula=\"log_price ~ C(color)\", data=diamonds_color).fit()\n",
    "model1.summary()"
   ]
  },
  {
   "cell_type": "markdown",
   "metadata": {},
   "source": [
    "### **Interpretation of Results**  \n",
    "\n",
    "The **R-squared** value tells me how much of the variation in **log_price** is explained by the model. I will also focus on the **beta coefficients** and their **p-values** to understand the relationship between the predictor (`color`) and the outcome variable (`log_price`).  \n",
    "\n",
    "---\n",
    "\n",
    "### **Model Summary**  \n",
    "- **R-squared: 0.026**  \n",
    "  - This means that **only 2.6% of the variation** in `log_price` is explained by the model. This suggests that `color` alone is not a strong predictor of `log_price`. Other factors likely have a much greater impact on diamond prices.  \n",
    "\n",
    "- **Adj. R-squared: 0.026**  \n",
    "  - Since the adjusted R-squared is the same as the R-squared, it confirms that adding more predictors would not improve the model significantly.  \n",
    "\n",
    "- **F-statistic: 265.0, p-value: 3.61e-225**  \n",
    "  - The very small p-value (**< 0.001**) indicates that the model is statistically significant overall. This means that at least one `color` category is significantly different from the baseline in predicting `log_price`.  \n",
    "\n",
    "---\n",
    "\n",
    "### **Coefficients and Interpretation**  \n",
    "- **Intercept: 7.6169**  \n",
    "  - This represents the predicted `log_price` for the baseline color (likely the omitted category, such as `color D`).  \n",
    "  - Since it is **highly significant (p-value = 0.000)**, the intercept is meaningful in the model.  \n",
    "\n",
    "- **C(color)[T.E]: -0.0375**  \n",
    "  - The coefficient is negative, meaning that diamonds with color `E` have **lower log-transformed prices** than the baseline (`D`), on average.  \n",
    "  - The p-value (**0.017**) is significant at the 5% level, meaning the difference is statistically meaningful.  \n",
    "\n",
    "- **C(color)[T.F]: 0.1455**  \n",
    "  - Diamonds with color `F` have **higher log-transformed prices** than those in `D` by **0.1455 units**, on average.  \n",
    "  - The p-value (**0.000**) indicates strong statistical significance.  \n",
    "\n",
    "- **C(color)[T.H]: 0.3015**  \n",
    "  - Diamonds with color `H` have **higher log-transformed prices** than those in `D` by **0.3015 units**, on average.  \n",
    "  - The p-value (**0.000**) confirms strong significance.  \n",
    "\n",
    "- **C(color)[T.I]: 0.4061**  \n",
    "  - Diamonds with color `I` have **higher log-transformed prices** than those in `D` by **0.4061 units**, on average.  \n",
    "  - The p-value (**0.000**) shows strong statistical significance.  \n",
    "\n",
    "---\n",
    "\n",
    "### **Statistical Significance**  \n",
    "- The **p-values** for all color categories are below 0.05, meaning they are statistically significant predictors of `log_price`.  \n",
    "- However, the **low R-squared (0.026)** suggests that `color` alone does not explain much of the price variation.  \n",
    "\n",
    "---\n",
    "\n",
    "### **Key Observations**  \n",
    "- **Color influences price**, but it is not a strong predictor alone.  \n",
    "- **The model is statistically significant**, but its predictive power is weak (low R²).  \n",
    "- **Higher color grades (e.g., F, H, I) tend to increase log_price** compared to the baseline (likely D).  \n",
    "- **Further analysis should include other variables** like carat, cut, or clarity to improve the model’s explanatory power.  \n",
    "\n",
    "This analysis suggests that while color affects diamond pricing, it is not the dominant factor, and I should explore additional predictors."
   ]
  },
  {
   "cell_type": "markdown",
   "metadata": {},
   "source": [
    "### **Regression vs. One-Way ANOVA: Understanding the Differences**  \n",
    "\n",
    "When interpreting the regression model, the **p-values for each color grade** indicate whether that specific color is significantly different from the **baseline category** (which is `D`). This means that:  \n",
    "- **Each color is compared to `D` individually** rather than to all other colors.  \n",
    "- A significant p-value in the regression output tells me that the mean `log_price` for that color is statistically different from `D`, but it doesn't tell me whether other colors differ from each other.  \n",
    "\n",
    "However, **one-way ANOVA** allows me to go a step further:  \n",
    "- Instead of just checking if each color is different from `D`, I test whether **any** of the color groups have significantly different means from each other.  \n",
    "- This means I check for differences **among all colors, not just relative to a baseline**.  \n",
    "- If ANOVA is significant, I can then conduct **post-hoc tests** (like Tukey's HSD) to determine **which specific pairs of colors** have significant differences.  \n",
    "\n",
    "### **Why Use ANOVA?**  \n",
    "Based on the model summary table, the color grades' associated **beta coefficients all have a p-value of less than 0.05** (check the `P>|t|` column). This suggests that each color grade is significantly different from `D`. **But that doesn’t tell me whether other colors are significantly different from each other**.  \n",
    "\n",
    "This is where one-way ANOVA comes in. Instead of looking at differences **only with respect to `D`**, ANOVA tests whether there is **any significant price difference across all colors**. If ANOVA finds significant differences, I would follow up with **post-hoc tests** to pinpoint which colors differ from each other.  "
   ]
  },
  {
   "cell_type": "markdown",
   "metadata": {},
   "source": [
    "First, we have to state our null and alternative hypotheses:\n",
    "\n",
    "#### Null Hypothesis\n",
    "\n",
    "$$H_0: price_D=price_E=price_F=price_H=price_I$$\n",
    "\n",
    "There is no difference in the price of diamonds based on color grade.\n",
    "\n",
    "#### Alternative Hypothesis\n",
    "\n",
    "$$H_1: \\text{Not } price_D=price_E=price_F=price_H=price_I$$\n",
    "\n",
    "There is a difference in the price of diamonds based on color grade.\n",
    "\n",
    "I perform one-way ANOVA:"
   ]
  },
  {
   "cell_type": "code",
   "execution_count": 163,
   "metadata": {},
   "outputs": [
    {
     "data": {
      "text/html": [
       "<div>\n",
       "<style scoped>\n",
       "    .dataframe tbody tr th:only-of-type {\n",
       "        vertical-align: middle;\n",
       "    }\n",
       "\n",
       "    .dataframe tbody tr th {\n",
       "        vertical-align: top;\n",
       "    }\n",
       "\n",
       "    .dataframe thead th {\n",
       "        text-align: right;\n",
       "    }\n",
       "</style>\n",
       "<table border=\"1\" class=\"dataframe\">\n",
       "  <thead>\n",
       "    <tr style=\"text-align: right;\">\n",
       "      <th></th>\n",
       "      <th>sum_sq</th>\n",
       "      <th>df</th>\n",
       "      <th>F</th>\n",
       "      <th>PR(&gt;F)</th>\n",
       "    </tr>\n",
       "  </thead>\n",
       "  <tbody>\n",
       "    <tr>\n",
       "      <th>C(color)</th>\n",
       "      <td>1041.690290</td>\n",
       "      <td>4.0</td>\n",
       "      <td>264.987395</td>\n",
       "      <td>3.609774e-225</td>\n",
       "    </tr>\n",
       "    <tr>\n",
       "      <th>Residual</th>\n",
       "      <td>39148.779822</td>\n",
       "      <td>39835.0</td>\n",
       "      <td>NaN</td>\n",
       "      <td>NaN</td>\n",
       "    </tr>\n",
       "  </tbody>\n",
       "</table>\n",
       "</div>"
      ],
      "text/plain": [
       "                sum_sq       df           F         PR(>F)\n",
       "C(color)   1041.690290      4.0  264.987395  3.609774e-225\n",
       "Residual  39148.779822  39835.0         NaN            NaN"
      ]
     },
     "execution_count": 163,
     "metadata": {},
     "output_type": "execute_result"
    }
   ],
   "source": [
    "sm.stats.anova_lm(model1, typ=2)\n"
   ]
  },
  {
   "cell_type": "code",
   "execution_count": 164,
   "metadata": {},
   "outputs": [
    {
     "data": {
      "text/html": [
       "<div>\n",
       "<style scoped>\n",
       "    .dataframe tbody tr th:only-of-type {\n",
       "        vertical-align: middle;\n",
       "    }\n",
       "\n",
       "    .dataframe tbody tr th {\n",
       "        vertical-align: top;\n",
       "    }\n",
       "\n",
       "    .dataframe thead th {\n",
       "        text-align: right;\n",
       "    }\n",
       "</style>\n",
       "<table border=\"1\" class=\"dataframe\">\n",
       "  <thead>\n",
       "    <tr style=\"text-align: right;\">\n",
       "      <th></th>\n",
       "      <th>df</th>\n",
       "      <th>sum_sq</th>\n",
       "      <th>mean_sq</th>\n",
       "      <th>F</th>\n",
       "      <th>PR(&gt;F)</th>\n",
       "    </tr>\n",
       "  </thead>\n",
       "  <tbody>\n",
       "    <tr>\n",
       "      <th>C(color)</th>\n",
       "      <td>4.0</td>\n",
       "      <td>1041.690290</td>\n",
       "      <td>260.422572</td>\n",
       "      <td>264.987395</td>\n",
       "      <td>3.609774e-225</td>\n",
       "    </tr>\n",
       "    <tr>\n",
       "      <th>Residual</th>\n",
       "      <td>39835.0</td>\n",
       "      <td>39148.779822</td>\n",
       "      <td>0.982773</td>\n",
       "      <td>NaN</td>\n",
       "      <td>NaN</td>\n",
       "    </tr>\n",
       "  </tbody>\n",
       "</table>\n",
       "</div>"
      ],
      "text/plain": [
       "               df        sum_sq     mean_sq           F         PR(>F)\n",
       "C(color)      4.0   1041.690290  260.422572  264.987395  3.609774e-225\n",
       "Residual  39835.0  39148.779822    0.982773         NaN            NaN"
      ]
     },
     "execution_count": 164,
     "metadata": {},
     "output_type": "execute_result"
    }
   ],
   "source": [
    "sm.stats.anova_lm(model1, typ=1)\n"
   ]
  },
  {
   "cell_type": "code",
   "execution_count": 165,
   "metadata": {},
   "outputs": [
    {
     "data": {
      "text/html": [
       "<div>\n",
       "<style scoped>\n",
       "    .dataframe tbody tr th:only-of-type {\n",
       "        vertical-align: middle;\n",
       "    }\n",
       "\n",
       "    .dataframe tbody tr th {\n",
       "        vertical-align: top;\n",
       "    }\n",
       "\n",
       "    .dataframe thead th {\n",
       "        text-align: right;\n",
       "    }\n",
       "</style>\n",
       "<table border=\"1\" class=\"dataframe\">\n",
       "  <thead>\n",
       "    <tr style=\"text-align: right;\">\n",
       "      <th></th>\n",
       "      <th>sum_sq</th>\n",
       "      <th>df</th>\n",
       "      <th>F</th>\n",
       "      <th>PR(&gt;F)</th>\n",
       "    </tr>\n",
       "  </thead>\n",
       "  <tbody>\n",
       "    <tr>\n",
       "      <th>Intercept</th>\n",
       "      <td>393066.804852</td>\n",
       "      <td>1.0</td>\n",
       "      <td>399956.684283</td>\n",
       "      <td>0.000000e+00</td>\n",
       "    </tr>\n",
       "    <tr>\n",
       "      <th>C(color)</th>\n",
       "      <td>1041.690290</td>\n",
       "      <td>4.0</td>\n",
       "      <td>264.987395</td>\n",
       "      <td>3.609774e-225</td>\n",
       "    </tr>\n",
       "    <tr>\n",
       "      <th>Residual</th>\n",
       "      <td>39148.779822</td>\n",
       "      <td>39835.0</td>\n",
       "      <td>NaN</td>\n",
       "      <td>NaN</td>\n",
       "    </tr>\n",
       "  </tbody>\n",
       "</table>\n",
       "</div>"
      ],
      "text/plain": [
       "                  sum_sq       df              F         PR(>F)\n",
       "Intercept  393066.804852      1.0  399956.684283   0.000000e+00\n",
       "C(color)     1041.690290      4.0     264.987395  3.609774e-225\n",
       "Residual    39148.779822  39835.0            NaN            NaN"
      ]
     },
     "execution_count": 165,
     "metadata": {},
     "output_type": "execute_result"
    }
   ],
   "source": [
    "sm.stats.anova_lm(model1, typ=3)"
   ]
  },
  {
   "cell_type": "markdown",
   "metadata": {},
   "source": [
    "### **ANOVA Results Interpretation**  \n",
    "\n",
    "The ANOVA table provides the following key insights:  \n",
    "\n",
    "- **The p-value for `C(color)` is extremely small (3.61e-225)**, which is far below the standard significance level of 0.05.  \n",
    "- This allows me to **reject the null hypothesis**, meaning that **at least one diamond color group has a significantly different mean log_price compared to the others**.  \n",
    "- The **F-statistic (265.0)** is very large, indicating that the between-group variability (differences in price across color categories) is much greater than the within-group variability (price differences within each color category).  \n",
    "\n",
    "### **Observation**  \n",
    "\n",
    "Since the ANOVA test is significant, I can conclude that **diamond price varies significantly across different color grades**. However, ANOVA does not tell me **which specific colors differ from each other**—it only indicates that at least one group is different.  \n",
    "\n",
    "To determine **which color groups have significantly different mean prices**, I proceed with a **post-hoc Tukey’s HSD test** for pairwise comparisons. This test will be carried out in the next part of the notebook."
   ]
  },
  {
   "cell_type": "markdown",
   "metadata": {},
   "source": [
    "### **One-Way ANOVA: Testing Price Differences by Cut Quality**"
   ]
  },
  {
   "cell_type": "markdown",
   "metadata": {},
   "source": [
    "### Data Cleaning - Preparing for One-Way ANOVA"
   ]
  },
  {
   "cell_type": "markdown",
   "metadata": {},
   "source": [
    "### Data Preparation and Feature Engineering\n",
    "\n",
    "### Initial Data Exploration"
   ]
  },
  {
   "cell_type": "code",
   "execution_count": 166,
   "metadata": {},
   "outputs": [
    {
     "data": {
      "text/plain": [
       "cut\n",
       "Ideal        21551\n",
       "Premium      13791\n",
       "Very Good    12082\n",
       "Good          4906\n",
       "Fair          1610\n",
       "Name: count, dtype: int64"
      ]
     },
     "execution_count": 166,
     "metadata": {},
     "output_type": "execute_result"
    }
   ],
   "source": [
    "diamonds[\"cut\"].value_counts()\n"
   ]
  },
  {
   "cell_type": "code",
   "execution_count": 167,
   "metadata": {},
   "outputs": [
    {
     "data": {
      "text/plain": [
       "['Ideal', 'Premium', 'Good', 'Very Good', 'Fair']\n",
       "Categories (5, object): ['Ideal', 'Premium', 'Very Good', 'Good', 'Fair']"
      ]
     },
     "execution_count": 167,
     "metadata": {},
     "output_type": "execute_result"
    }
   ],
   "source": [
    "diamonds['cut'].unique()\n"
   ]
  },
  {
   "cell_type": "markdown",
   "metadata": {},
   "source": [
    "Since the analysis requires a continuous variable and a categorical variable, I subset the dataset to include only relevant columns. Specifically, I focus on the main cut qualities of diamonds:"
   ]
  },
  {
   "cell_type": "code",
   "execution_count": 168,
   "metadata": {},
   "outputs": [],
   "source": [
    "diamonds_mcut = diamonds[diamonds[\"cut\"].isin([\"Ideal\", \"Premium\", \"Very Good\"])]\n",
    "diamonds_mcut = diamonds_mcut[[\"cut\", \"price\"]].reset_index(drop=True)"
   ]
  },
  {
   "cell_type": "markdown",
   "metadata": {},
   "source": [
    "To balance the dataset, I exclude **Good** (underrepresented) and **Fair** (underrepresented) diamonds. The dropped categories are removed as follows:"
   ]
  },
  {
   "cell_type": "code",
   "execution_count": 169,
   "metadata": {},
   "outputs": [],
   "source": [
    "diamonds_mcut.cut = diamonds_mcut.cut.cat.remove_categories([\"Good\",\"Fair\"])"
   ]
  },
  {
   "cell_type": "markdown",
   "metadata": {},
   "source": [
    "Next, I transform the **price** variable using a logarithmic scale:"
   ]
  },
  {
   "cell_type": "code",
   "execution_count": 170,
   "metadata": {},
   "outputs": [],
   "source": [
    "diamonds_mcut.insert(2, \"log_price\", [math.log(price) for price in diamonds_mcut[\"price\"]])"
   ]
  },
  {
   "cell_type": "markdown",
   "metadata": {},
   "source": [
    "Finally, I drop missing values and reset the index:"
   ]
  },
  {
   "cell_type": "code",
   "execution_count": 171,
   "metadata": {},
   "outputs": [
    {
     "data": {
      "text/html": [
       "<div>\n",
       "<style scoped>\n",
       "    .dataframe tbody tr th:only-of-type {\n",
       "        vertical-align: middle;\n",
       "    }\n",
       "\n",
       "    .dataframe tbody tr th {\n",
       "        vertical-align: top;\n",
       "    }\n",
       "\n",
       "    .dataframe thead th {\n",
       "        text-align: right;\n",
       "    }\n",
       "</style>\n",
       "<table border=\"1\" class=\"dataframe\">\n",
       "  <thead>\n",
       "    <tr style=\"text-align: right;\">\n",
       "      <th></th>\n",
       "      <th>cut</th>\n",
       "      <th>price</th>\n",
       "      <th>log_price</th>\n",
       "    </tr>\n",
       "  </thead>\n",
       "  <tbody>\n",
       "    <tr>\n",
       "      <th>0</th>\n",
       "      <td>Ideal</td>\n",
       "      <td>326</td>\n",
       "      <td>5.786897</td>\n",
       "    </tr>\n",
       "    <tr>\n",
       "      <th>1</th>\n",
       "      <td>Premium</td>\n",
       "      <td>326</td>\n",
       "      <td>5.786897</td>\n",
       "    </tr>\n",
       "    <tr>\n",
       "      <th>2</th>\n",
       "      <td>Premium</td>\n",
       "      <td>334</td>\n",
       "      <td>5.811141</td>\n",
       "    </tr>\n",
       "    <tr>\n",
       "      <th>3</th>\n",
       "      <td>Very Good</td>\n",
       "      <td>336</td>\n",
       "      <td>5.817111</td>\n",
       "    </tr>\n",
       "    <tr>\n",
       "      <th>4</th>\n",
       "      <td>Very Good</td>\n",
       "      <td>336</td>\n",
       "      <td>5.817111</td>\n",
       "    </tr>\n",
       "  </tbody>\n",
       "</table>\n",
       "</div>"
      ],
      "text/plain": [
       "         cut  price  log_price\n",
       "0      Ideal    326   5.786897\n",
       "1    Premium    326   5.786897\n",
       "2    Premium    334   5.811141\n",
       "3  Very Good    336   5.817111\n",
       "4  Very Good    336   5.817111"
      ]
     },
     "execution_count": 171,
     "metadata": {},
     "output_type": "execute_result"
    }
   ],
   "source": [
    "diamonds_mcut.dropna(inplace=True)\n",
    "diamonds_mcut.reset_index(inplace=True, drop=True)\n",
    "diamonds_mcut.head()"
   ]
  },
  {
   "cell_type": "markdown",
   "metadata": {},
   "source": [
    "The cleaned dataset is saved as a CSV file:\n"
   ]
  },
  {
   "cell_type": "code",
   "execution_count": 172,
   "metadata": {},
   "outputs": [],
   "source": [
    "diamonds_mcut.to_csv(r'Data/diamonds_cut.csv', index=False, header=list(diamonds_mcut.columns))"
   ]
  },
  {
   "cell_type": "markdown",
   "metadata": {},
   "source": [
    "### One-Way ANOVA\n",
    "\n",
    "To run a one-way ANOVA, I first load the data and save it as a variable called diamonds_cut. Then, I examine the dataset using the head() function to get an overview of its structure and contents."
   ]
  },
  {
   "cell_type": "code",
   "execution_count": 173,
   "metadata": {},
   "outputs": [
    {
     "data": {
      "text/html": [
       "<div>\n",
       "<style scoped>\n",
       "    .dataframe tbody tr th:only-of-type {\n",
       "        vertical-align: middle;\n",
       "    }\n",
       "\n",
       "    .dataframe tbody tr th {\n",
       "        vertical-align: top;\n",
       "    }\n",
       "\n",
       "    .dataframe thead th {\n",
       "        text-align: right;\n",
       "    }\n",
       "</style>\n",
       "<table border=\"1\" class=\"dataframe\">\n",
       "  <thead>\n",
       "    <tr style=\"text-align: right;\">\n",
       "      <th></th>\n",
       "      <th>cut</th>\n",
       "      <th>price</th>\n",
       "      <th>log_price</th>\n",
       "    </tr>\n",
       "  </thead>\n",
       "  <tbody>\n",
       "    <tr>\n",
       "      <th>0</th>\n",
       "      <td>Ideal</td>\n",
       "      <td>326</td>\n",
       "      <td>5.786897</td>\n",
       "    </tr>\n",
       "    <tr>\n",
       "      <th>1</th>\n",
       "      <td>Premium</td>\n",
       "      <td>326</td>\n",
       "      <td>5.786897</td>\n",
       "    </tr>\n",
       "    <tr>\n",
       "      <th>2</th>\n",
       "      <td>Premium</td>\n",
       "      <td>334</td>\n",
       "      <td>5.811141</td>\n",
       "    </tr>\n",
       "    <tr>\n",
       "      <th>3</th>\n",
       "      <td>Very Good</td>\n",
       "      <td>336</td>\n",
       "      <td>5.817111</td>\n",
       "    </tr>\n",
       "    <tr>\n",
       "      <th>4</th>\n",
       "      <td>Very Good</td>\n",
       "      <td>336</td>\n",
       "      <td>5.817111</td>\n",
       "    </tr>\n",
       "  </tbody>\n",
       "</table>\n",
       "</div>"
      ],
      "text/plain": [
       "         cut  price  log_price\n",
       "0      Ideal    326   5.786897\n",
       "1    Premium    326   5.786897\n",
       "2    Premium    334   5.811141\n",
       "3  Very Good    336   5.817111\n",
       "4  Very Good    336   5.817111"
      ]
     },
     "execution_count": 173,
     "metadata": {},
     "output_type": "execute_result"
    }
   ],
   "source": [
    "diamonds_cut = pd.read_csv(r\"C:\\Users\\saswa\\Documents\\GitHub\\Diamonds-ANOVA-Analysis\\Data\\diamonds_cut.csv\")\n",
    "\n",
    "diamonds_cut.head()\n"
   ]
  },
  {
   "cell_type": "markdown",
   "metadata": {},
   "source": [
    " To start, I perform some basic exploratory data analysis by creating a boxplot using the boxplot() function from the seaborn package."
   ]
  },
  {
   "cell_type": "code",
   "execution_count": 174,
   "metadata": {},
   "outputs": [
    {
     "data": {
      "text/plain": [
       "<Axes: xlabel='cut', ylabel='log_price'>"
      ]
     },
     "execution_count": 174,
     "metadata": {},
     "output_type": "execute_result"
    },
    {
     "data": {
      "image/png": "[encoded data removed]",
      "text/plain": [
       "<Figure size 640x480 with 1 Axes>"
      ]
     },
     "metadata": {},
     "output_type": "display_data"
    }
   ],
   "source": [
    "sns.boxplot(x=\"cut\", y=\"log_price\", data=diamonds_cut)"
   ]
  },
  {
   "cell_type": "markdown",
   "metadata": {},
   "source": [
    "Based on the plot, I observe that the distribution of `log_price` varies across different `cut` categories (`Ideal`, `Premium`, and `Very Good`). While `Premium` diamonds appear to have a slightly higher median `log_price`, there is a considerable amount of overlap in the interquartile ranges of the three groups. However, I cannot yet determine whether these differences are statistically significant. To confirm this, I will conduct a formal one-way ANOVA test."
   ]
  },
  {
   "cell_type": "markdown",
   "metadata": {},
   "source": [
    "To run ANOVA, I need to create a regression model. To do this, I will create a simple linear regression model where the independent variable (`X`) is `cut`, which I will code as categorical using `C()`. Then, I will fit the model to the data and generate model summary statistics."
   ]
  },
  {
   "cell_type": "code",
   "execution_count": 175,
   "metadata": {},
   "outputs": [
    {
     "data": {
      "text/html": [
       "<table class=\"simpletable\">\n",
       "<caption>OLS Regression Results</caption>\n",
       "<tr>\n",
       "  <th>Dep. Variable:</th>        <td>log_price</td>    <th>  R-squared:         </th> <td>   0.017</td> \n",
       "</tr>\n",
       "<tr>\n",
       "  <th>Model:</th>                   <td>OLS</td>       <th>  Adj. R-squared:    </th> <td>   0.017</td> \n",
       "</tr>\n",
       "<tr>\n",
       "  <th>Method:</th>             <td>Least Squares</td>  <th>  F-statistic:       </th> <td>   401.8</td> \n",
       "</tr>\n",
       "<tr>\n",
       "  <th>Date:</th>             <td>Fri, 28 Mar 2025</td> <th>  Prob (F-statistic):</th> <td>9.09e-174</td>\n",
       "</tr>\n",
       "<tr>\n",
       "  <th>Time:</th>                 <td>21:31:12</td>     <th>  Log-Likelihood:    </th> <td> -67996.</td> \n",
       "</tr>\n",
       "<tr>\n",
       "  <th>No. Observations:</th>      <td> 47424</td>      <th>  AIC:               </th> <td>1.360e+05</td>\n",
       "</tr>\n",
       "<tr>\n",
       "  <th>Df Residuals:</th>          <td> 47421</td>      <th>  BIC:               </th> <td>1.360e+05</td>\n",
       "</tr>\n",
       "<tr>\n",
       "  <th>Df Model:</th>              <td>     2</td>      <th>                     </th>     <td> </td>    \n",
       "</tr>\n",
       "<tr>\n",
       "  <th>Covariance Type:</th>      <td>nonrobust</td>    <th>                     </th>     <td> </td>    \n",
       "</tr>\n",
       "</table>\n",
       "<table class=\"simpletable\">\n",
       "<tr>\n",
       "           <td></td>              <th>coef</th>     <th>std err</th>      <th>t</th>      <th>P>|t|</th>  <th>[0.025</th>    <th>0.975]</th>  \n",
       "</tr>\n",
       "<tr>\n",
       "  <th>Intercept</th>           <td>    7.6395</td> <td>    0.007</td> <td> 1104.927</td> <td> 0.000</td> <td>    7.626</td> <td>    7.653</td>\n",
       "</tr>\n",
       "<tr>\n",
       "  <th>C(cut)[T.Premium]</th>   <td>    0.3113</td> <td>    0.011</td> <td>   28.128</td> <td> 0.000</td> <td>    0.290</td> <td>    0.333</td>\n",
       "</tr>\n",
       "<tr>\n",
       "  <th>C(cut)[T.Very Good]</th> <td>    0.1592</td> <td>    0.012</td> <td>   13.800</td> <td> 0.000</td> <td>    0.137</td> <td>    0.182</td>\n",
       "</tr>\n",
       "</table>\n",
       "<table class=\"simpletable\">\n",
       "<tr>\n",
       "  <th>Omnibus:</th>       <td>15696.350</td> <th>  Durbin-Watson:     </th> <td>   0.051</td>\n",
       "</tr>\n",
       "<tr>\n",
       "  <th>Prob(Omnibus):</th>  <td> 0.000</td>   <th>  Jarque-Bera (JB):  </th> <td>2401.035</td>\n",
       "</tr>\n",
       "<tr>\n",
       "  <th>Skew:</th>           <td> 0.146</td>   <th>  Prob(JB):          </th> <td>    0.00</td>\n",
       "</tr>\n",
       "<tr>\n",
       "  <th>Kurtosis:</th>       <td> 1.937</td>   <th>  Cond. No.          </th> <td>    3.32</td>\n",
       "</tr>\n",
       "</table><br/><br/>Notes:<br/>[1] Standard Errors assume that the covariance matrix of the errors is correctly specified."
      ],
      "text/latex": [
       "\\begin{center}\n",
       "\\begin{tabular}{lclc}\n",
       "\\toprule\n",
       "\\textbf{Dep. Variable:}      &    log\\_price    & \\textbf{  R-squared:         } &     0.017   \\\\\n",
       "\\textbf{Model:}              &       OLS        & \\textbf{  Adj. R-squared:    } &     0.017   \\\\\n",
       "\\textbf{Method:}             &  Least Squares   & \\textbf{  F-statistic:       } &     401.8   \\\\\n",
       "\\textbf{Date:}               & Fri, 28 Mar 2025 & \\textbf{  Prob (F-statistic):} & 9.09e-174   \\\\\n",
       "\\textbf{Time:}               &     21:31:12     & \\textbf{  Log-Likelihood:    } &   -67996.   \\\\\n",
       "\\textbf{No. Observations:}   &       47424      & \\textbf{  AIC:               } & 1.360e+05   \\\\\n",
       "\\textbf{Df Residuals:}       &       47421      & \\textbf{  BIC:               } & 1.360e+05   \\\\\n",
       "\\textbf{Df Model:}           &           2      & \\textbf{                     } &             \\\\\n",
       "\\textbf{Covariance Type:}    &    nonrobust     & \\textbf{                     } &             \\\\\n",
       "\\bottomrule\n",
       "\\end{tabular}\n",
       "\\begin{tabular}{lcccccc}\n",
       "                             & \\textbf{coef} & \\textbf{std err} & \\textbf{t} & \\textbf{P$> |$t$|$} & \\textbf{[0.025} & \\textbf{0.975]}  \\\\\n",
       "\\midrule\n",
       "\\textbf{Intercept}           &       7.6395  &        0.007     &  1104.927  &         0.000        &        7.626    &        7.653     \\\\\n",
       "\\textbf{C(cut)[T.Premium]}   &       0.3113  &        0.011     &    28.128  &         0.000        &        0.290    &        0.333     \\\\\n",
       "\\textbf{C(cut)[T.Very Good]} &       0.1592  &        0.012     &    13.800  &         0.000        &        0.137    &        0.182     \\\\\n",
       "\\bottomrule\n",
       "\\end{tabular}\n",
       "\\begin{tabular}{lclc}\n",
       "\\textbf{Omnibus:}       & 15696.350 & \\textbf{  Durbin-Watson:     } &    0.051  \\\\\n",
       "\\textbf{Prob(Omnibus):} &    0.000  & \\textbf{  Jarque-Bera (JB):  } & 2401.035  \\\\\n",
       "\\textbf{Skew:}          &    0.146  & \\textbf{  Prob(JB):          } &     0.00  \\\\\n",
       "\\textbf{Kurtosis:}      &    1.937  & \\textbf{  Cond. No.          } &     3.32  \\\\\n",
       "\\bottomrule\n",
       "\\end{tabular}\n",
       "%\\caption{OLS Regression Results}\n",
       "\\end{center}\n",
       "\n",
       "Notes: \\newline\n",
       " [1] Standard Errors assume that the covariance matrix of the errors is correctly specified."
      ],
      "text/plain": [
       "<class 'statsmodels.iolib.summary.Summary'>\n",
       "\"\"\"\n",
       "                            OLS Regression Results                            \n",
       "==============================================================================\n",
       "Dep. Variable:              log_price   R-squared:                       0.017\n",
       "Model:                            OLS   Adj. R-squared:                  0.017\n",
       "Method:                 Least Squares   F-statistic:                     401.8\n",
       "Date:                Fri, 28 Mar 2025   Prob (F-statistic):          9.09e-174\n",
       "Time:                        21:31:12   Log-Likelihood:                -67996.\n",
       "No. Observations:               47424   AIC:                         1.360e+05\n",
       "Df Residuals:                   47421   BIC:                         1.360e+05\n",
       "Df Model:                           2                                         \n",
       "Covariance Type:            nonrobust                                         \n",
       "=======================================================================================\n",
       "                          coef    std err          t      P>|t|      [0.025      0.975]\n",
       "---------------------------------------------------------------------------------------\n",
       "Intercept               7.6395      0.007   1104.927      0.000       7.626       7.653\n",
       "C(cut)[T.Premium]       0.3113      0.011     28.128      0.000       0.290       0.333\n",
       "C(cut)[T.Very Good]     0.1592      0.012     13.800      0.000       0.137       0.182\n",
       "==============================================================================\n",
       "Omnibus:                    15696.350   Durbin-Watson:                   0.051\n",
       "Prob(Omnibus):                  0.000   Jarque-Bera (JB):             2401.035\n",
       "Skew:                           0.146   Prob(JB):                         0.00\n",
       "Kurtosis:                       1.937   Cond. No.                         3.32\n",
       "==============================================================================\n",
       "\n",
       "Notes:\n",
       "[1] Standard Errors assume that the covariance matrix of the errors is correctly specified.\n",
       "\"\"\""
      ]
     },
     "execution_count": 175,
     "metadata": {},
     "output_type": "execute_result"
    }
   ],
   "source": [
    "model2 = ols(formula=\"log_price ~ C(cut)\", data=diamonds_cut).fit()\n",
    "model2.summary()"
   ]
  },
  {
   "cell_type": "markdown",
   "metadata": {},
   "source": [
    "### **Interpretation of Results**  \n",
    "\n",
    "The **R-squared** value tells me how much of the variation in **log_price** is explained by the model. I will also focus on the **beta coefficients** and their **p-values** to understand the relationship between the predictor (`cut`) and the outcome variable (`log_price`).  \n",
    "\n",
    "---\n",
    "\n",
    "### **Model Summary**  \n",
    "- **R-squared: 0.017**  \n",
    "  - This means that **only 1.7% of the variation** in `log_price` is explained by the model. This suggests that `cut` alone is not a strong predictor of `log_price`. Other factors likely have a much greater impact on diamond prices.  \n",
    "\n",
    "- **Adj. R-squared: 0.017**  \n",
    "  - Since the adjusted R-squared is the same as the R-squared, it confirms that adding more predictors would not improve the model significantly.  \n",
    "\n",
    "- **F-statistic: 401.8, p-value: 9.09e-174**  \n",
    "  - The very small p-value (**< 0.001**) indicates that the model is statistically significant overall. This means that at least one `cut` category is significantly different from the baseline in predicting `log_price`.  \n",
    "\n",
    "---\n",
    "\n",
    "### **Coefficients and Interpretation**  \n",
    "- **Intercept: 7.6395**  \n",
    "  - This represents the predicted `log_price` for the baseline cut (likely the omitted category, such as `Ideal`).  \n",
    "  - Since it is **highly significant (p-value = 0.000)**, the intercept is meaningful in the model.  \n",
    "\n",
    "- **C(cut)[T.Premium]: 0.3113**  \n",
    "  - The coefficient is positive, meaning that diamonds with a **Premium** cut have **higher log-transformed prices** than the baseline (`Ideal`), on average.  \n",
    "  - The p-value (**0.000**) indicates strong statistical significance.  \n",
    "\n",
    "- **C(cut)[T.Very Good]: 0.1592**  \n",
    "  - Diamonds with a **Very Good** cut have **higher log-transformed prices** than those in `Ideal` by **0.1592 units**, on average.  \n",
    "  - The p-value (**0.000**) confirms strong significance.  \n",
    "\n",
    "---\n",
    "\n",
    "### **Statistical Significance**  \n",
    "- The **p-values** for both `Premium` and `Very Good` cuts are below 0.05, meaning they are statistically significant predictors of `log_price`.  \n",
    "- However, the **low R-squared (0.017)** suggests that `cut` alone does not explain much of the price variation.  \n",
    "\n",
    "---\n",
    "\n",
    "### **Key Observations**  \n",
    "- **Cut influences price**, but it is not a strong predictor alone.  \n",
    "- **The model is statistically significant**, but its predictive power is weak (low R²).  \n",
    "- **Higher cuts (e.g., Premium, Very Good) tend to increase log_price** compared to the baseline (`Ideal`).  \n",
    "- **Further analysis should include other variables** like carat, color, or clarity to improve the model’s explanatory power.  \n",
    "\n",
    "This analysis suggests that while cut affects diamond pricing, it is not the dominant factor, and I should explore additional predictors."
   ]
  },
  {
   "cell_type": "markdown",
   "metadata": {},
   "source": [
    "### **Comparing Regression and One-Way ANOVA for Cut Quality**  \n",
    "\n",
    "When interpreting the regression model, the **p-values for each cut quality** indicate whether that specific cut is significantly different from the **baseline category** (which is `Ideal`). This means that:  \n",
    "- **Each cut quality is compared to `Ideal` individually** rather than to all other cut categories.  \n",
    "- A significant p-value in the regression output tells me that the mean `log_price` for that cut quality is statistically different from `Ideal`, but it doesn't tell me whether other cuts differ from each other.  \n",
    "\n",
    "However, **one-way ANOVA** allows me to go a step further:  \n",
    "- Instead of just checking if each cut quality is different from `Ideal`, I test whether **any** of the cut quality groups have significantly different means from each other.  \n",
    "- This means I check for differences **among all cut qualities, not just relative to a baseline**.  \n",
    "- If ANOVA is significant, I can then conduct **post-hoc tests** (like Tukey's HSD) to determine **which specific pairs of cut qualities** have significant differences.  \n",
    "\n",
    "Based on the model summary table, the cut qualities `Premium` and `Very Good` both have **p-values < 0.05** (check the `P>|t|` column). This suggests that these cut qualities are significantly different from `Ideal`. **But that doesn’t tell me whether `Premium` and `Very Good` are significantly different from each other** or from other cut categories.  \n",
    "\n",
    "This is where one-way ANOVA comes in. Instead of looking at differences **only with respect to `Ideal`**, ANOVA tests whether there is **any significant price difference across all cut qualities**. If ANOVA finds significant differences, I would follow up with **post-hoc tests** to pinpoint which cut qualities differ from each other.  "
   ]
  },
  {
   "cell_type": "markdown",
   "metadata": {},
   "source": [
    "First, we have to state our null and alternative hypotheses:\n",
    "\n",
    "#### Null Hypothesis\n",
    "\n",
    "$$H_0: \\text{price}_{Ideal} = \\text{price}_{Premium} = \\text{price}_{Very\\ Good}$$  \n",
    "\n",
    "There is no difference in the price of diamonds based on cut quality.\n",
    "\n",
    "\n",
    "#### Alternative Hypothesis\n",
    "\n",
    "$$H_1: \\text{Not } (\\text{price}_{Ideal} = \\text{price}_{Premium} = \\text{price}_{Very\\ Good})$$  \n",
    "\n",
    "There is a difference in the price of diamonds based on cut quality.\n",
    "\n",
    "I perform one-way ANOVA:"
   ]
  },
  {
   "cell_type": "code",
   "execution_count": 176,
   "metadata": {},
   "outputs": [
    {
     "data": {
      "text/html": [
       "<div>\n",
       "<style scoped>\n",
       "    .dataframe tbody tr th:only-of-type {\n",
       "        vertical-align: middle;\n",
       "    }\n",
       "\n",
       "    .dataframe tbody tr th {\n",
       "        vertical-align: top;\n",
       "    }\n",
       "\n",
       "    .dataframe thead th {\n",
       "        text-align: right;\n",
       "    }\n",
       "</style>\n",
       "<table border=\"1\" class=\"dataframe\">\n",
       "  <thead>\n",
       "    <tr style=\"text-align: right;\">\n",
       "      <th></th>\n",
       "      <th>sum_sq</th>\n",
       "      <th>df</th>\n",
       "      <th>F</th>\n",
       "      <th>PR(&gt;F)</th>\n",
       "    </tr>\n",
       "  </thead>\n",
       "  <tbody>\n",
       "    <tr>\n",
       "      <th>C(cut)</th>\n",
       "      <td>827.898297</td>\n",
       "      <td>2.0</td>\n",
       "      <td>401.809593</td>\n",
       "      <td>9.087145e-174</td>\n",
       "    </tr>\n",
       "    <tr>\n",
       "      <th>Residual</th>\n",
       "      <td>48853.693162</td>\n",
       "      <td>47421.0</td>\n",
       "      <td>NaN</td>\n",
       "      <td>NaN</td>\n",
       "    </tr>\n",
       "  </tbody>\n",
       "</table>\n",
       "</div>"
      ],
      "text/plain": [
       "                sum_sq       df           F         PR(>F)\n",
       "C(cut)      827.898297      2.0  401.809593  9.087145e-174\n",
       "Residual  48853.693162  47421.0         NaN            NaN"
      ]
     },
     "execution_count": 176,
     "metadata": {},
     "output_type": "execute_result"
    }
   ],
   "source": [
    "sm.stats.anova_lm(model2, typ=2)"
   ]
  },
  {
   "cell_type": "code",
   "execution_count": 177,
   "metadata": {},
   "outputs": [
    {
     "data": {
      "text/html": [
       "<div>\n",
       "<style scoped>\n",
       "    .dataframe tbody tr th:only-of-type {\n",
       "        vertical-align: middle;\n",
       "    }\n",
       "\n",
       "    .dataframe tbody tr th {\n",
       "        vertical-align: top;\n",
       "    }\n",
       "\n",
       "    .dataframe thead th {\n",
       "        text-align: right;\n",
       "    }\n",
       "</style>\n",
       "<table border=\"1\" class=\"dataframe\">\n",
       "  <thead>\n",
       "    <tr style=\"text-align: right;\">\n",
       "      <th></th>\n",
       "      <th>df</th>\n",
       "      <th>sum_sq</th>\n",
       "      <th>mean_sq</th>\n",
       "      <th>F</th>\n",
       "      <th>PR(&gt;F)</th>\n",
       "    </tr>\n",
       "  </thead>\n",
       "  <tbody>\n",
       "    <tr>\n",
       "      <th>C(cut)</th>\n",
       "      <td>2.0</td>\n",
       "      <td>827.898297</td>\n",
       "      <td>413.949149</td>\n",
       "      <td>401.809593</td>\n",
       "      <td>9.087145e-174</td>\n",
       "    </tr>\n",
       "    <tr>\n",
       "      <th>Residual</th>\n",
       "      <td>47421.0</td>\n",
       "      <td>48853.693162</td>\n",
       "      <td>1.030212</td>\n",
       "      <td>NaN</td>\n",
       "      <td>NaN</td>\n",
       "    </tr>\n",
       "  </tbody>\n",
       "</table>\n",
       "</div>"
      ],
      "text/plain": [
       "               df        sum_sq     mean_sq           F         PR(>F)\n",
       "C(cut)        2.0    827.898297  413.949149  401.809593  9.087145e-174\n",
       "Residual  47421.0  48853.693162    1.030212         NaN            NaN"
      ]
     },
     "execution_count": 177,
     "metadata": {},
     "output_type": "execute_result"
    }
   ],
   "source": [
    "sm.stats.anova_lm(model2, typ=1)"
   ]
  },
  {
   "cell_type": "code",
   "execution_count": 178,
   "metadata": {},
   "outputs": [
    {
     "data": {
      "text/html": [
       "<div>\n",
       "<style scoped>\n",
       "    .dataframe tbody tr th:only-of-type {\n",
       "        vertical-align: middle;\n",
       "    }\n",
       "\n",
       "    .dataframe tbody tr th {\n",
       "        vertical-align: top;\n",
       "    }\n",
       "\n",
       "    .dataframe thead th {\n",
       "        text-align: right;\n",
       "    }\n",
       "</style>\n",
       "<table border=\"1\" class=\"dataframe\">\n",
       "  <thead>\n",
       "    <tr style=\"text-align: right;\">\n",
       "      <th></th>\n",
       "      <th>sum_sq</th>\n",
       "      <th>df</th>\n",
       "      <th>F</th>\n",
       "      <th>PR(&gt;F)</th>\n",
       "    </tr>\n",
       "  </thead>\n",
       "  <tbody>\n",
       "    <tr>\n",
       "      <th>Intercept</th>\n",
       "      <td>1.257748e+06</td>\n",
       "      <td>1.0</td>\n",
       "      <td>1.220863e+06</td>\n",
       "      <td>0.000000e+00</td>\n",
       "    </tr>\n",
       "    <tr>\n",
       "      <th>C(cut)</th>\n",
       "      <td>8.278983e+02</td>\n",
       "      <td>2.0</td>\n",
       "      <td>4.018096e+02</td>\n",
       "      <td>9.087145e-174</td>\n",
       "    </tr>\n",
       "    <tr>\n",
       "      <th>Residual</th>\n",
       "      <td>4.885369e+04</td>\n",
       "      <td>47421.0</td>\n",
       "      <td>NaN</td>\n",
       "      <td>NaN</td>\n",
       "    </tr>\n",
       "  </tbody>\n",
       "</table>\n",
       "</div>"
      ],
      "text/plain": [
       "                 sum_sq       df             F         PR(>F)\n",
       "Intercept  1.257748e+06      1.0  1.220863e+06   0.000000e+00\n",
       "C(cut)     8.278983e+02      2.0  4.018096e+02  9.087145e-174\n",
       "Residual   4.885369e+04  47421.0           NaN            NaN"
      ]
     },
     "execution_count": 178,
     "metadata": {},
     "output_type": "execute_result"
    }
   ],
   "source": [
    "sm.stats.anova_lm(model2, typ=3)"
   ]
  },
  {
   "cell_type": "markdown",
   "metadata": {},
   "source": [
    "### **ANOVA Results Interpretation**  \n",
    "\n",
    "The ANOVA table provides the following key insights:  \n",
    "\n",
    "- **The p-value for `C(cut)` is extremely small (9.09e-174)**, which is far below the standard significance level of 0.05.  \n",
    "- This allows me to **reject the null hypothesis**, meaning that **at least one cut quality group has a significantly different mean price compared to the others**.  \n",
    "- The **F-statistic (401.81)** is very large, indicating that the between-group variability (differences in price across cut categories) is much greater than the within-group variability (price differences within each cut category).  \n",
    "\n",
    "### **Observation**  \n",
    "\n",
    "Since the ANOVA test is significant, I can conclude that **diamond price varies significantly across different cut qualities**. However, ANOVA does not tell me **which specific cut qualities differ from each other**—it only indicates that at least one group is different.  \n",
    "\n",
    "To determine **which cut quality groups have significantly different mean prices**, I proceed with a **post-hoc Tukey’s HSD test** for pairwise comparisons. This test will be carried out in the next part of the notebook.  \n"
   ]
  },
  {
   "cell_type": "markdown",
   "metadata": {},
   "source": [
    "## Data Cleaning - Preparing for Two-Way ANOVA\n",
    "\n",
    "In this part of the notebook, I will prepare a second dataset to perform a two-way ANOVA, which requires two categorical variables. I will start with the same diamonds dataset from the seaborn package."
   ]
  },
  {
   "cell_type": "code",
   "execution_count": 179,
   "metadata": {},
   "outputs": [],
   "source": [
    "diamonds = sns.load_dataset(\"diamonds\", cache=False)"
   ]
  },
  {
   "cell_type": "code",
   "execution_count": 180,
   "metadata": {},
   "outputs": [
    {
     "data": {
      "text/html": [
       "<div>\n",
       "<style scoped>\n",
       "    .dataframe tbody tr th:only-of-type {\n",
       "        vertical-align: middle;\n",
       "    }\n",
       "\n",
       "    .dataframe tbody tr th {\n",
       "        vertical-align: top;\n",
       "    }\n",
       "\n",
       "    .dataframe thead th {\n",
       "        text-align: right;\n",
       "    }\n",
       "</style>\n",
       "<table border=\"1\" class=\"dataframe\">\n",
       "  <thead>\n",
       "    <tr style=\"text-align: right;\">\n",
       "      <th></th>\n",
       "      <th>carat</th>\n",
       "      <th>cut</th>\n",
       "      <th>color</th>\n",
       "      <th>clarity</th>\n",
       "      <th>depth</th>\n",
       "      <th>table</th>\n",
       "      <th>price</th>\n",
       "      <th>x</th>\n",
       "      <th>y</th>\n",
       "      <th>z</th>\n",
       "    </tr>\n",
       "  </thead>\n",
       "  <tbody>\n",
       "    <tr>\n",
       "      <th>0</th>\n",
       "      <td>0.23</td>\n",
       "      <td>Ideal</td>\n",
       "      <td>E</td>\n",
       "      <td>SI2</td>\n",
       "      <td>61.5</td>\n",
       "      <td>55.0</td>\n",
       "      <td>326</td>\n",
       "      <td>3.95</td>\n",
       "      <td>3.98</td>\n",
       "      <td>2.43</td>\n",
       "    </tr>\n",
       "    <tr>\n",
       "      <th>1</th>\n",
       "      <td>0.21</td>\n",
       "      <td>Premium</td>\n",
       "      <td>E</td>\n",
       "      <td>SI1</td>\n",
       "      <td>59.8</td>\n",
       "      <td>61.0</td>\n",
       "      <td>326</td>\n",
       "      <td>3.89</td>\n",
       "      <td>3.84</td>\n",
       "      <td>2.31</td>\n",
       "    </tr>\n",
       "    <tr>\n",
       "      <th>2</th>\n",
       "      <td>0.23</td>\n",
       "      <td>Good</td>\n",
       "      <td>E</td>\n",
       "      <td>VS1</td>\n",
       "      <td>56.9</td>\n",
       "      <td>65.0</td>\n",
       "      <td>327</td>\n",
       "      <td>4.05</td>\n",
       "      <td>4.07</td>\n",
       "      <td>2.31</td>\n",
       "    </tr>\n",
       "    <tr>\n",
       "      <th>3</th>\n",
       "      <td>0.29</td>\n",
       "      <td>Premium</td>\n",
       "      <td>I</td>\n",
       "      <td>VS2</td>\n",
       "      <td>62.4</td>\n",
       "      <td>58.0</td>\n",
       "      <td>334</td>\n",
       "      <td>4.20</td>\n",
       "      <td>4.23</td>\n",
       "      <td>2.63</td>\n",
       "    </tr>\n",
       "    <tr>\n",
       "      <th>4</th>\n",
       "      <td>0.31</td>\n",
       "      <td>Good</td>\n",
       "      <td>J</td>\n",
       "      <td>SI2</td>\n",
       "      <td>63.3</td>\n",
       "      <td>58.0</td>\n",
       "      <td>335</td>\n",
       "      <td>4.34</td>\n",
       "      <td>4.35</td>\n",
       "      <td>2.75</td>\n",
       "    </tr>\n",
       "  </tbody>\n",
       "</table>\n",
       "</div>"
      ],
      "text/plain": [
       "   carat      cut color clarity  depth  table  price     x     y     z\n",
       "0   0.23    Ideal     E     SI2   61.5   55.0    326  3.95  3.98  2.43\n",
       "1   0.21  Premium     E     SI1   59.8   61.0    326  3.89  3.84  2.31\n",
       "2   0.23     Good     E     VS1   56.9   65.0    327  4.05  4.07  2.31\n",
       "3   0.29  Premium     I     VS2   62.4   58.0    334  4.20  4.23  2.63\n",
       "4   0.31     Good     J     SI2   63.3   58.0    335  4.34  4.35  2.75"
      ]
     },
     "execution_count": 180,
     "metadata": {},
     "output_type": "execute_result"
    }
   ],
   "source": [
    "diamonds.head()"
   ]
  },
  {
   "cell_type": "markdown",
   "metadata": {},
   "source": [
    "Below, I go through a very similar process as above. I start by selecting the columns of interest: `color`, `cut`, and `price`. Then, I subset only for certain color grades and remove the dropped colors from the list of categories using the `remove_categories()` function.   \n",
    "\n",
    "Next, I subset for specific diamond cuts: `Ideal`, `Premium`, and `Very Good`, and remove the dropped cuts from the list of categories.  \n",
    "\n",
    "After that, I remove rows with missing data and reset the index.  \n",
    "\n",
    "Finally, I add a column for the logarithm of the price."
   ]
  },
  {
   "cell_type": "code",
   "execution_count": 181,
   "metadata": {},
   "outputs": [],
   "source": [
    "diamonds_colorless_cut = diamonds[[\"color\", \"cut\", \"price\"]]\n",
    "diamonds_colorless_cut = diamonds_colorless_cut[diamonds_colorless_cut[\"color\"].isin([\"E\", \"F\", \"H\", \"D\", \"I\"])]\n",
    "diamonds_colorless_cut.color = diamonds_colorless_cut.color.cat.remove_categories([\"G\", \"J\"])\n",
    "diamonds_colorless_cut = diamonds_colorless_cut[diamonds_colorless_cut[\"cut\"].isin([\"Ideal\", \"Premium\", \"Very Good\"])]\n",
    "diamonds_colorless_cut.cut = diamonds_colorless_cut.cut.cat.remove_categories([\"Good\", \"Fair\"])\n",
    "diamonds_colorless_cut.dropna(inplace=True)\n",
    "diamonds_colorless_cut.reset_index(inplace=True, drop=True)\n",
    "diamonds_colorless_cut.insert(3, \"log_price\", [math.log(price) for price in diamonds_colorless_cut[\"price\"]])"
   ]
  },
  {
   "cell_type": "code",
   "execution_count": 182,
   "metadata": {},
   "outputs": [
    {
     "data": {
      "text/html": [
       "<div>\n",
       "<style scoped>\n",
       "    .dataframe tbody tr th:only-of-type {\n",
       "        vertical-align: middle;\n",
       "    }\n",
       "\n",
       "    .dataframe tbody tr th {\n",
       "        vertical-align: top;\n",
       "    }\n",
       "\n",
       "    .dataframe thead th {\n",
       "        text-align: right;\n",
       "    }\n",
       "</style>\n",
       "<table border=\"1\" class=\"dataframe\">\n",
       "  <thead>\n",
       "    <tr style=\"text-align: right;\">\n",
       "      <th></th>\n",
       "      <th>color</th>\n",
       "      <th>cut</th>\n",
       "      <th>price</th>\n",
       "      <th>log_price</th>\n",
       "    </tr>\n",
       "  </thead>\n",
       "  <tbody>\n",
       "    <tr>\n",
       "      <th>0</th>\n",
       "      <td>E</td>\n",
       "      <td>Ideal</td>\n",
       "      <td>326</td>\n",
       "      <td>5.786897</td>\n",
       "    </tr>\n",
       "    <tr>\n",
       "      <th>1</th>\n",
       "      <td>E</td>\n",
       "      <td>Premium</td>\n",
       "      <td>326</td>\n",
       "      <td>5.786897</td>\n",
       "    </tr>\n",
       "    <tr>\n",
       "      <th>2</th>\n",
       "      <td>I</td>\n",
       "      <td>Premium</td>\n",
       "      <td>334</td>\n",
       "      <td>5.811141</td>\n",
       "    </tr>\n",
       "    <tr>\n",
       "      <th>3</th>\n",
       "      <td>I</td>\n",
       "      <td>Very Good</td>\n",
       "      <td>336</td>\n",
       "      <td>5.817111</td>\n",
       "    </tr>\n",
       "    <tr>\n",
       "      <th>4</th>\n",
       "      <td>H</td>\n",
       "      <td>Very Good</td>\n",
       "      <td>337</td>\n",
       "      <td>5.820083</td>\n",
       "    </tr>\n",
       "  </tbody>\n",
       "</table>\n",
       "</div>"
      ],
      "text/plain": [
       "  color        cut  price  log_price\n",
       "0     E      Ideal    326   5.786897\n",
       "1     E    Premium    326   5.786897\n",
       "2     I    Premium    334   5.811141\n",
       "3     I  Very Good    336   5.817111\n",
       "4     H  Very Good    337   5.820083"
      ]
     },
     "execution_count": 182,
     "metadata": {},
     "output_type": "execute_result"
    }
   ],
   "source": [
    "diamonds_colorless_cut.head()"
   ]
  },
  {
   "cell_type": "markdown",
   "metadata": {},
   "source": [
    "I save the dataset as a .csv file again using the `to_csv()` function, just as I did above:"
   ]
  },
  {
   "cell_type": "code",
   "execution_count": 183,
   "metadata": {},
   "outputs": [],
   "source": [
    "diamonds_colorless_cut.to_csv(r'Data/diamonds_color_cut.csv', index=False, header=list(diamonds_colorless_cut.columns))\n"
   ]
  },
  {
   "cell_type": "markdown",
   "metadata": {},
   "source": [
    "## Two-Way ANOVA\n",
    "\n",
    "I load the dataset:"
   ]
  },
  {
   "cell_type": "code",
   "execution_count": 184,
   "metadata": {},
   "outputs": [],
   "source": [
    "diamonds_color_cut = pd.read_csv(r\"C:\\Users\\saswa\\Documents\\GitHub\\Diamonds-ANOVA-Analysis\\Data\\diamonds_color_cut.csv\")"
   ]
  },
  {
   "cell_type": "code",
   "execution_count": 185,
   "metadata": {},
   "outputs": [
    {
     "data": {
      "text/html": [
       "<div>\n",
       "<style scoped>\n",
       "    .dataframe tbody tr th:only-of-type {\n",
       "        vertical-align: middle;\n",
       "    }\n",
       "\n",
       "    .dataframe tbody tr th {\n",
       "        vertical-align: top;\n",
       "    }\n",
       "\n",
       "    .dataframe thead th {\n",
       "        text-align: right;\n",
       "    }\n",
       "</style>\n",
       "<table border=\"1\" class=\"dataframe\">\n",
       "  <thead>\n",
       "    <tr style=\"text-align: right;\">\n",
       "      <th></th>\n",
       "      <th>color</th>\n",
       "      <th>cut</th>\n",
       "      <th>price</th>\n",
       "      <th>log_price</th>\n",
       "    </tr>\n",
       "  </thead>\n",
       "  <tbody>\n",
       "    <tr>\n",
       "      <th>0</th>\n",
       "      <td>E</td>\n",
       "      <td>Ideal</td>\n",
       "      <td>326</td>\n",
       "      <td>5.786897</td>\n",
       "    </tr>\n",
       "    <tr>\n",
       "      <th>1</th>\n",
       "      <td>E</td>\n",
       "      <td>Premium</td>\n",
       "      <td>326</td>\n",
       "      <td>5.786897</td>\n",
       "    </tr>\n",
       "    <tr>\n",
       "      <th>2</th>\n",
       "      <td>I</td>\n",
       "      <td>Premium</td>\n",
       "      <td>334</td>\n",
       "      <td>5.811141</td>\n",
       "    </tr>\n",
       "    <tr>\n",
       "      <th>3</th>\n",
       "      <td>I</td>\n",
       "      <td>Very Good</td>\n",
       "      <td>336</td>\n",
       "      <td>5.817111</td>\n",
       "    </tr>\n",
       "    <tr>\n",
       "      <th>4</th>\n",
       "      <td>H</td>\n",
       "      <td>Very Good</td>\n",
       "      <td>337</td>\n",
       "      <td>5.820083</td>\n",
       "    </tr>\n",
       "  </tbody>\n",
       "</table>\n",
       "</div>"
      ],
      "text/plain": [
       "  color        cut  price  log_price\n",
       "0     E      Ideal    326   5.786897\n",
       "1     E    Premium    326   5.786897\n",
       "2     I    Premium    334   5.811141\n",
       "3     I  Very Good    336   5.817111\n",
       "4     H  Very Good    337   5.820083"
      ]
     },
     "execution_count": 185,
     "metadata": {},
     "output_type": "execute_result"
    }
   ],
   "source": [
    "diamonds_color_cut.head()"
   ]
  },
  {
   "cell_type": "markdown",
   "metadata": {},
   "source": [
    "Then I'll create a multiple linear regression model using the `ols()` function, fit the model to the data, and get the summary statistics.  \n",
    "\n",
    "Note: This regression model includes two categorical X variables, `color` and `cut`, along with an interaction term between them, denoted using the `:` symbol."
   ]
  },
  {
   "cell_type": "code",
   "execution_count": 186,
   "metadata": {},
   "outputs": [
    {
     "data": {
      "text/html": [
       "<table class=\"simpletable\">\n",
       "<caption>OLS Regression Results</caption>\n",
       "<tr>\n",
       "  <th>Dep. Variable:</th>        <td>log_price</td>    <th>  R-squared:         </th> <td>   0.046</td> \n",
       "</tr>\n",
       "<tr>\n",
       "  <th>Model:</th>                   <td>OLS</td>       <th>  Adj. R-squared:    </th> <td>   0.045</td> \n",
       "</tr>\n",
       "<tr>\n",
       "  <th>Method:</th>             <td>Least Squares</td>  <th>  F-statistic:       </th> <td>   119.5</td> \n",
       "</tr>\n",
       "<tr>\n",
       "  <th>Date:</th>             <td>Fri, 28 Mar 2025</td> <th>  Prob (F-statistic):</th>  <td>  0.00</td>  \n",
       "</tr>\n",
       "<tr>\n",
       "  <th>Time:</th>                 <td>21:31:25</td>     <th>  Log-Likelihood:    </th> <td> -49159.</td> \n",
       "</tr>\n",
       "<tr>\n",
       "  <th>No. Observations:</th>      <td> 34935</td>      <th>  AIC:               </th> <td>9.835e+04</td>\n",
       "</tr>\n",
       "<tr>\n",
       "  <th>Df Residuals:</th>          <td> 34920</td>      <th>  BIC:               </th> <td>9.847e+04</td>\n",
       "</tr>\n",
       "<tr>\n",
       "  <th>Df Model:</th>              <td>    14</td>      <th>                     </th>     <td> </td>    \n",
       "</tr>\n",
       "<tr>\n",
       "  <th>Covariance Type:</th>      <td>nonrobust</td>    <th>                     </th>     <td> </td>    \n",
       "</tr>\n",
       "</table>\n",
       "<table class=\"simpletable\">\n",
       "<tr>\n",
       "                  <td></td>                     <th>coef</th>     <th>std err</th>      <th>t</th>      <th>P>|t|</th>  <th>[0.025</th>    <th>0.975]</th>  \n",
       "</tr>\n",
       "<tr>\n",
       "  <th>Intercept</th>                         <td>    7.4567</td> <td>    0.019</td> <td>  401.583</td> <td> 0.000</td> <td>    7.420</td> <td>    7.493</td>\n",
       "</tr>\n",
       "<tr>\n",
       "  <th>C(color)[T.E]</th>                     <td>   -0.0056</td> <td>    0.024</td> <td>   -0.231</td> <td> 0.817</td> <td>   -0.053</td> <td>    0.042</td>\n",
       "</tr>\n",
       "<tr>\n",
       "  <th>C(color)[T.F]</th>                     <td>    0.1755</td> <td>    0.024</td> <td>    7.166</td> <td> 0.000</td> <td>    0.128</td> <td>    0.224</td>\n",
       "</tr>\n",
       "<tr>\n",
       "  <th>C(color)[T.H]</th>                     <td>    0.2756</td> <td>    0.026</td> <td>   10.739</td> <td> 0.000</td> <td>    0.225</td> <td>    0.326</td>\n",
       "</tr>\n",
       "<tr>\n",
       "  <th>C(color)[T.I]</th>                     <td>    0.3787</td> <td>    0.028</td> <td>   13.294</td> <td> 0.000</td> <td>    0.323</td> <td>    0.435</td>\n",
       "</tr>\n",
       "<tr>\n",
       "  <th>C(cut)[T.Premium]</th>                 <td>    0.2828</td> <td>    0.031</td> <td>    9.153</td> <td> 0.000</td> <td>    0.222</td> <td>    0.343</td>\n",
       "</tr>\n",
       "<tr>\n",
       "  <th>C(cut)[T.Very Good]</th>               <td>    0.2295</td> <td>    0.031</td> <td>    7.290</td> <td> 0.000</td> <td>    0.168</td> <td>    0.291</td>\n",
       "</tr>\n",
       "<tr>\n",
       "  <th>C(color)[T.E]:C(cut)[T.Premium]</th>   <td>   -0.0322</td> <td>    0.040</td> <td>   -0.800</td> <td> 0.424</td> <td>   -0.111</td> <td>    0.047</td>\n",
       "</tr>\n",
       "<tr>\n",
       "  <th>C(color)[T.F]:C(cut)[T.Premium]</th>   <td>    0.0313</td> <td>    0.040</td> <td>    0.775</td> <td> 0.438</td> <td>   -0.048</td> <td>    0.110</td>\n",
       "</tr>\n",
       "<tr>\n",
       "  <th>C(color)[T.H]:C(cut)[T.Premium]</th>   <td>    0.0947</td> <td>    0.041</td> <td>    2.308</td> <td> 0.021</td> <td>    0.014</td> <td>    0.175</td>\n",
       "</tr>\n",
       "<tr>\n",
       "  <th>C(color)[T.I]:C(cut)[T.Premium]</th>   <td>    0.0841</td> <td>    0.046</td> <td>    1.832</td> <td> 0.067</td> <td>   -0.006</td> <td>    0.174</td>\n",
       "</tr>\n",
       "<tr>\n",
       "  <th>C(color)[T.E]:C(cut)[T.Very Good]</th> <td>   -0.0931</td> <td>    0.041</td> <td>   -2.294</td> <td> 0.022</td> <td>   -0.173</td> <td>   -0.014</td>\n",
       "</tr>\n",
       "<tr>\n",
       "  <th>C(color)[T.F]:C(cut)[T.Very Good]</th> <td>   -0.1013</td> <td>    0.041</td> <td>   -2.459</td> <td> 0.014</td> <td>   -0.182</td> <td>   -0.021</td>\n",
       "</tr>\n",
       "<tr>\n",
       "  <th>C(color)[T.H]:C(cut)[T.Very Good]</th> <td>   -0.0247</td> <td>    0.043</td> <td>   -0.576</td> <td> 0.564</td> <td>   -0.109</td> <td>    0.059</td>\n",
       "</tr>\n",
       "<tr>\n",
       "  <th>C(color)[T.I]:C(cut)[T.Very Good]</th> <td>    0.0359</td> <td>    0.048</td> <td>    0.753</td> <td> 0.451</td> <td>   -0.057</td> <td>    0.129</td>\n",
       "</tr>\n",
       "</table>\n",
       "<table class=\"simpletable\">\n",
       "<tr>\n",
       "  <th>Omnibus:</th>       <td>4862.888</td> <th>  Durbin-Watson:     </th> <td>   0.101</td> \n",
       "</tr>\n",
       "<tr>\n",
       "  <th>Prob(Omnibus):</th>  <td> 0.000</td>  <th>  Jarque-Bera (JB):  </th> <td>1246.556</td> \n",
       "</tr>\n",
       "<tr>\n",
       "  <th>Skew:</th>           <td> 0.108</td>  <th>  Prob(JB):          </th> <td>2.06e-271</td>\n",
       "</tr>\n",
       "<tr>\n",
       "  <th>Kurtosis:</th>       <td> 2.100</td>  <th>  Cond. No.          </th> <td>    20.8</td> \n",
       "</tr>\n",
       "</table><br/><br/>Notes:<br/>[1] Standard Errors assume that the covariance matrix of the errors is correctly specified."
      ],
      "text/latex": [
       "\\begin{center}\n",
       "\\begin{tabular}{lclc}\n",
       "\\toprule\n",
       "\\textbf{Dep. Variable:}                    &    log\\_price    & \\textbf{  R-squared:         } &     0.046   \\\\\n",
       "\\textbf{Model:}                            &       OLS        & \\textbf{  Adj. R-squared:    } &     0.045   \\\\\n",
       "\\textbf{Method:}                           &  Least Squares   & \\textbf{  F-statistic:       } &     119.5   \\\\\n",
       "\\textbf{Date:}                             & Fri, 28 Mar 2025 & \\textbf{  Prob (F-statistic):} &     0.00    \\\\\n",
       "\\textbf{Time:}                             &     21:31:25     & \\textbf{  Log-Likelihood:    } &   -49159.   \\\\\n",
       "\\textbf{No. Observations:}                 &       34935      & \\textbf{  AIC:               } & 9.835e+04   \\\\\n",
       "\\textbf{Df Residuals:}                     &       34920      & \\textbf{  BIC:               } & 9.847e+04   \\\\\n",
       "\\textbf{Df Model:}                         &          14      & \\textbf{                     } &             \\\\\n",
       "\\textbf{Covariance Type:}                  &    nonrobust     & \\textbf{                     } &             \\\\\n",
       "\\bottomrule\n",
       "\\end{tabular}\n",
       "\\begin{tabular}{lcccccc}\n",
       "                                           & \\textbf{coef} & \\textbf{std err} & \\textbf{t} & \\textbf{P$> |$t$|$} & \\textbf{[0.025} & \\textbf{0.975]}  \\\\\n",
       "\\midrule\n",
       "\\textbf{Intercept}                         &       7.4567  &        0.019     &   401.583  &         0.000        &        7.420    &        7.493     \\\\\n",
       "\\textbf{C(color)[T.E]}                     &      -0.0056  &        0.024     &    -0.231  &         0.817        &       -0.053    &        0.042     \\\\\n",
       "\\textbf{C(color)[T.F]}                     &       0.1755  &        0.024     &     7.166  &         0.000        &        0.128    &        0.224     \\\\\n",
       "\\textbf{C(color)[T.H]}                     &       0.2756  &        0.026     &    10.739  &         0.000        &        0.225    &        0.326     \\\\\n",
       "\\textbf{C(color)[T.I]}                     &       0.3787  &        0.028     &    13.294  &         0.000        &        0.323    &        0.435     \\\\\n",
       "\\textbf{C(cut)[T.Premium]}                 &       0.2828  &        0.031     &     9.153  &         0.000        &        0.222    &        0.343     \\\\\n",
       "\\textbf{C(cut)[T.Very Good]}               &       0.2295  &        0.031     &     7.290  &         0.000        &        0.168    &        0.291     \\\\\n",
       "\\textbf{C(color)[T.E]:C(cut)[T.Premium]}   &      -0.0322  &        0.040     &    -0.800  &         0.424        &       -0.111    &        0.047     \\\\\n",
       "\\textbf{C(color)[T.F]:C(cut)[T.Premium]}   &       0.0313  &        0.040     &     0.775  &         0.438        &       -0.048    &        0.110     \\\\\n",
       "\\textbf{C(color)[T.H]:C(cut)[T.Premium]}   &       0.0947  &        0.041     &     2.308  &         0.021        &        0.014    &        0.175     \\\\\n",
       "\\textbf{C(color)[T.I]:C(cut)[T.Premium]}   &       0.0841  &        0.046     &     1.832  &         0.067        &       -0.006    &        0.174     \\\\\n",
       "\\textbf{C(color)[T.E]:C(cut)[T.Very Good]} &      -0.0931  &        0.041     &    -2.294  &         0.022        &       -0.173    &       -0.014     \\\\\n",
       "\\textbf{C(color)[T.F]:C(cut)[T.Very Good]} &      -0.1013  &        0.041     &    -2.459  &         0.014        &       -0.182    &       -0.021     \\\\\n",
       "\\textbf{C(color)[T.H]:C(cut)[T.Very Good]} &      -0.0247  &        0.043     &    -0.576  &         0.564        &       -0.109    &        0.059     \\\\\n",
       "\\textbf{C(color)[T.I]:C(cut)[T.Very Good]} &       0.0359  &        0.048     &     0.753  &         0.451        &       -0.057    &        0.129     \\\\\n",
       "\\bottomrule\n",
       "\\end{tabular}\n",
       "\\begin{tabular}{lclc}\n",
       "\\textbf{Omnibus:}       & 4862.888 & \\textbf{  Durbin-Watson:     } &     0.101  \\\\\n",
       "\\textbf{Prob(Omnibus):} &   0.000  & \\textbf{  Jarque-Bera (JB):  } &  1246.556  \\\\\n",
       "\\textbf{Skew:}          &   0.108  & \\textbf{  Prob(JB):          } & 2.06e-271  \\\\\n",
       "\\textbf{Kurtosis:}      &   2.100  & \\textbf{  Cond. No.          } &      20.8  \\\\\n",
       "\\bottomrule\n",
       "\\end{tabular}\n",
       "%\\caption{OLS Regression Results}\n",
       "\\end{center}\n",
       "\n",
       "Notes: \\newline\n",
       " [1] Standard Errors assume that the covariance matrix of the errors is correctly specified."
      ],
      "text/plain": [
       "<class 'statsmodels.iolib.summary.Summary'>\n",
       "\"\"\"\n",
       "                            OLS Regression Results                            \n",
       "==============================================================================\n",
       "Dep. Variable:              log_price   R-squared:                       0.046\n",
       "Model:                            OLS   Adj. R-squared:                  0.045\n",
       "Method:                 Least Squares   F-statistic:                     119.5\n",
       "Date:                Fri, 28 Mar 2025   Prob (F-statistic):               0.00\n",
       "Time:                        21:31:25   Log-Likelihood:                -49159.\n",
       "No. Observations:               34935   AIC:                         9.835e+04\n",
       "Df Residuals:                   34920   BIC:                         9.847e+04\n",
       "Df Model:                          14                                         \n",
       "Covariance Type:            nonrobust                                         \n",
       "=====================================================================================================\n",
       "                                        coef    std err          t      P>|t|      [0.025      0.975]\n",
       "-----------------------------------------------------------------------------------------------------\n",
       "Intercept                             7.4567      0.019    401.583      0.000       7.420       7.493\n",
       "C(color)[T.E]                        -0.0056      0.024     -0.231      0.817      -0.053       0.042\n",
       "C(color)[T.F]                         0.1755      0.024      7.166      0.000       0.128       0.224\n",
       "C(color)[T.H]                         0.2756      0.026     10.739      0.000       0.225       0.326\n",
       "C(color)[T.I]                         0.3787      0.028     13.294      0.000       0.323       0.435\n",
       "C(cut)[T.Premium]                     0.2828      0.031      9.153      0.000       0.222       0.343\n",
       "C(cut)[T.Very Good]                   0.2295      0.031      7.290      0.000       0.168       0.291\n",
       "C(color)[T.E]:C(cut)[T.Premium]      -0.0322      0.040     -0.800      0.424      -0.111       0.047\n",
       "C(color)[T.F]:C(cut)[T.Premium]       0.0313      0.040      0.775      0.438      -0.048       0.110\n",
       "C(color)[T.H]:C(cut)[T.Premium]       0.0947      0.041      2.308      0.021       0.014       0.175\n",
       "C(color)[T.I]:C(cut)[T.Premium]       0.0841      0.046      1.832      0.067      -0.006       0.174\n",
       "C(color)[T.E]:C(cut)[T.Very Good]    -0.0931      0.041     -2.294      0.022      -0.173      -0.014\n",
       "C(color)[T.F]:C(cut)[T.Very Good]    -0.1013      0.041     -2.459      0.014      -0.182      -0.021\n",
       "C(color)[T.H]:C(cut)[T.Very Good]    -0.0247      0.043     -0.576      0.564      -0.109       0.059\n",
       "C(color)[T.I]:C(cut)[T.Very Good]     0.0359      0.048      0.753      0.451      -0.057       0.129\n",
       "==============================================================================\n",
       "Omnibus:                     4862.888   Durbin-Watson:                   0.101\n",
       "Prob(Omnibus):                  0.000   Jarque-Bera (JB):             1246.556\n",
       "Skew:                           0.108   Prob(JB):                    2.06e-271\n",
       "Kurtosis:                       2.100   Cond. No.                         20.8\n",
       "==============================================================================\n",
       "\n",
       "Notes:\n",
       "[1] Standard Errors assume that the covariance matrix of the errors is correctly specified.\n",
       "\"\"\""
      ]
     },
     "execution_count": 186,
     "metadata": {},
     "output_type": "execute_result"
    }
   ],
   "source": [
    "model3 = ols(formula=\"log_price ~ C(color) + C(cut) + C(color):C(cut)\", data=diamonds_color_cut).fit()\n",
    "model3.summary()"
   ]
  },
  {
   "cell_type": "markdown",
   "metadata": {},
   "source": [
    "### Interpretation of Results  \n",
    "\n",
    "The **R-squared** value indicates how much of the variation in **log_price** is explained by the model. A higher R-squared suggests a better fit. I will also examine the **beta coefficients** and their **p-values** to understand the relationship between the predictor variables and the outcome variable.  \n",
    "\n",
    "---\n",
    "\n",
    "### Model Summary  \n",
    "- **R-squared: 0.046**  \n",
    "  - This means that only **4.6% of the variation in log-transformed diamond price** is explained by the model. This suggests that other factors, not included in the model, play a significant role in determining diamond prices.  \n",
    "- **Adj. R-squared: 0.045**  \n",
    "  - The adjusted R-squared is nearly the same, confirming that adding more predictors does not substantially improve the model's explanatory power.  \n",
    "- **F-statistic: 119.5** with **p-value = 0.000**  \n",
    "  - The model as a whole is statistically significant, meaning that at least one of the predictor variables (color, cut, or their interaction) has a significant relationship with log_price.  \n",
    "\n",
    "---\n",
    "\n",
    "### Coefficients and Interpretation  \n",
    "- **Intercept: 7.4567**  \n",
    "  - This represents the predicted log-transformed price for the baseline category (diamonds of the reference color and cut).  \n",
    "- **Color Effects**  \n",
    "  - The coefficients for `C(color)[T.E]`, `C(color)[T.F]`, `C(color)[T.H]`, and `C(color)[T.I]` show how much the log-transformed price changes compared to the reference color (presumably `D`).  \n",
    "  - For example, `C(color)[T.I] = 0.3787` means that diamonds with color **I** are associated with a **higher price** compared to the reference category, with a statistically significant p-value.  \n",
    "  - Conversely, `C(color)[T.E]` has a small negative coefficient and an **insignificant p-value (0.817)**, meaning that diamonds of color E do not have a significantly different price compared to the reference color.  \n",
    "\n",
    "- **Cut Effects**  \n",
    "  - `C(cut)[T.Premium] = 0.2828` and `C(cut)[T.Very Good] = 0.2295` indicate that Premium and Very Good cuts tend to have **higher log-transformed prices** compared to the reference cut, and these effects are statistically significant.  \n",
    "\n",
    "- **Interaction Effects (Color × Cut)**  \n",
    "\n",
    "The interaction terms represent how the combination of **color** and **cut** influences the log-transformed diamond price. Below is an interpretation of each coefficient:  \n",
    "\n",
    "- **C(color)[T.E]:C(cut)[T.Premium] = -0.0322 (p = 0.424)**  \n",
    "  - Diamonds with color **E** and a **Premium** cut have a slightly **lower** log-transformed price compared to the baseline.  \n",
    "  - However, the effect is **not statistically significant**, meaning there is no strong evidence that this combination influences price.  \n",
    "\n",
    "- **C(color)[T.F]:C(cut)[T.Premium] = 0.0313 (p = 0.438)**  \n",
    "  - Diamonds with color **F** and a **Premium** cut have a **slightly higher** price than the reference category, but the effect is **not statistically significant**.  \n",
    "  - This suggests that this combination does not have a meaningful impact on price.  \n",
    "\n",
    "- **C(color)[T.H]:C(cut)[T.Premium] = 0.0947 (p = 0.021)**  \n",
    "  - Diamonds with color **H** and a **Premium** cut have a **higher** log-transformed price compared to the baseline.  \n",
    "  - The effect is **statistically significant** at the 5% level, meaning this combination does influence price.  \n",
    "\n",
    "- **C(color)[T.I]:C(cut)[T.Premium] = 0.0841 (p = 0.067)**  \n",
    "  - Diamonds with color **I** and a **Premium** cut have a **higher** log-transformed price, but the p-value is slightly above 0.05.  \n",
    "  - This suggests that the effect is **marginally significant**, meaning it may influence price but with some uncertainty.  \n",
    "\n",
    "- **C(color)[T.E]:C(cut)[T.Very Good] = -0.0931 (p = 0.022)**  \n",
    "  - Diamonds with color **E** and a **Very Good** cut have a **lower** log-transformed price compared to the baseline.  \n",
    "  - This effect is **statistically significant**, meaning this combination leads to a meaningful price reduction.  \n",
    "\n",
    "- **C(color)[T.F]:C(cut)[T.Very Good] = -0.1013 (p = 0.014)**  \n",
    "  - Diamonds with color **F** and a **Very Good** cut also have a **lower** log-transformed price.  \n",
    "  - The effect is **statistically significant**, indicating that this combination consistently results in lower prices.  \n",
    "\n",
    "- **C(color)[T.H]:C(cut)[T.Very Good] = -0.0247 (p = 0.564)**  \n",
    "  - Diamonds with color **H** and a **Very Good** cut have a **slightly lower** price, but the effect is **not statistically significant**.  \n",
    "  - This means there is no strong evidence that this combination impacts price.  \n",
    "\n",
    "- **C(color)[T.I]:C(cut)[T.Very Good] = 0.0359 (p = 0.451)**  \n",
    "  - Diamonds with color **I** and a **Very Good** cut have a **slightly higher** price, but the effect is **not statistically significant**.  \n",
    "  - This suggests that this combination does not have a meaningful impact on price.  \n",
    "\n",
    "---\n",
    "\n",
    "### Statistical Significance  \n",
    "- **Main effects of color and cut are significant, but not all individual categories show strong effects.**  \n",
    "- **Some interaction effects are significant, but many are not**, indicating that color and cut do not always interact in a meaningful way to influence price.  \n",
    "- **The low R-squared value suggests that other variables (e.g., carat, clarity) likely explain much more of the variation in diamond prices.**  \n",
    "\n",
    "---\n",
    "### Key Observations  \n",
    "\n",
    "- **Color and cut influence diamond prices, but their effects are limited.** While some color-cut combinations significantly impact price, others do not.  \n",
    "- **Premium-cut diamonds with color H tend to have higher prices,** while **Very Good-cut diamonds with colors E and F tend to have lower prices.** These effects are statistically significant.  \n",
    "- **Many interaction effects are not statistically significant,** meaning their influence on price is uncertain.  \n",
    "- **The model does not explain much variation in log_price,** suggesting that additional variables (such as carat and clarity) are needed to better predict price.  \n",
    "- **Overall, color and cut interact in complex ways,** but they are likely not the primary drivers of diamond pricing.\n",
    "\n",
    "This analysis provides insights into how diamond color and cut impact price, but a more comprehensive model including factors like carat weight and clarity would likely improve explanatory power."
   ]
  },
  {
   "cell_type": "markdown",
   "metadata": {},
   "source": [
    "Based on the model summary table, many of the **color grades and cuts have beta coefficients with p-values less than 0.05** (check the `P>|t|` column). This suggests that these factors significantly influence diamond price. Additionally, some interaction terms between color and cut also appear to be statistically significant.  \n",
    "\n",
    "However, the regression alone does not provide a full picture of how **color and cut interact to affect price**. To explore these relationships further, I will conduct a **two-way ANOVA**, which will test whether there is a significant effect of **color, cut, and their interaction** on price.  "
   ]
  },
  {
   "cell_type": "markdown",
   "metadata": {},
   "source": [
    "First, we have to state our three pairs of null and alternative hypotheses:\n",
    "\n",
    "\n",
    "#### **Null Hypothesis (Color)**\n",
    "\n",
    "$$H_0: price_D=price_E=price_F=price_H=price_I$$\n",
    "\n",
    "There is no difference in the price of diamonds based on color.\n",
    "\n",
    "#### **Alternative Hypothesis (Color)**\n",
    "\n",
    "$$H_1: \\text{Not } price_D=price_E=price_F=price_H=price_I$$\n",
    "\n",
    "There is a difference in the price of diamonds based on color.\n",
    "\n",
    "#### **Null Hypothesis (Cut)**\n",
    "\n",
    "$$H_0: price_{Ideal}=price_{Premium}=price_{Very \\space Good}$$\n",
    "\n",
    "There is no difference in the price of diamonds based on cut.\n",
    "\n",
    "#### **Alternative Hypothesis (Cut)**\n",
    "\n",
    "$$H_1: \\text{Not } price_{Ideal}=price_{Premium}=price_{Very \\space Good}$$\n",
    "\n",
    "There is a difference in the price of diamonds based on cut.\n",
    "\n",
    "#### **Null Hypothesis (Interaction)**\n",
    "\n",
    "$$H_0: \\text{The effect of color on diamond price is independent of the cut, and vice versa.}$$\n",
    "\n",
    "#### **Alternative Hypothesis (Interaction)**\n",
    "\n",
    "$$H_1: \\text{There is an interaction effect between color and cut on diamond price.}$$"
   ]
  },
  {
   "cell_type": "markdown",
   "metadata": {},
   "source": [
    "The syntax for a two-way ANOVA is the same as that for a one-way ANOVA. I will continue using the `anova_lm()` function from `statsmodels.stats` to perform the analysis. This will allow me to test the individual effects of **color and cut**, as well as their **interaction effect** on diamond price.\n",
    "\n",
    "I conduct a two-way ANOVA:"
   ]
  },
  {
   "cell_type": "code",
   "execution_count": 187,
   "metadata": {},
   "outputs": [
    {
     "data": {
      "text/html": [
       "<div>\n",
       "<style scoped>\n",
       "    .dataframe tbody tr th:only-of-type {\n",
       "        vertical-align: middle;\n",
       "    }\n",
       "\n",
       "    .dataframe tbody tr th {\n",
       "        vertical-align: top;\n",
       "    }\n",
       "\n",
       "    .dataframe thead th {\n",
       "        text-align: right;\n",
       "    }\n",
       "</style>\n",
       "<table border=\"1\" class=\"dataframe\">\n",
       "  <thead>\n",
       "    <tr style=\"text-align: right;\">\n",
       "      <th></th>\n",
       "      <th>sum_sq</th>\n",
       "      <th>df</th>\n",
       "      <th>F</th>\n",
       "      <th>PR(&gt;F)</th>\n",
       "    </tr>\n",
       "  </thead>\n",
       "  <tbody>\n",
       "    <tr>\n",
       "      <th>C(color)</th>\n",
       "      <td>926.361461</td>\n",
       "      <td>4.0</td>\n",
       "      <td>237.014783</td>\n",
       "      <td>3.481145e-201</td>\n",
       "    </tr>\n",
       "    <tr>\n",
       "      <th>C(cut)</th>\n",
       "      <td>630.641441</td>\n",
       "      <td>2.0</td>\n",
       "      <td>322.706309</td>\n",
       "      <td>1.348511e-139</td>\n",
       "    </tr>\n",
       "    <tr>\n",
       "      <th>C(color):C(cut)</th>\n",
       "      <td>27.478611</td>\n",
       "      <td>8.0</td>\n",
       "      <td>3.515279</td>\n",
       "      <td>4.531734e-04</td>\n",
       "    </tr>\n",
       "    <tr>\n",
       "      <th>Residual</th>\n",
       "      <td>34120.806577</td>\n",
       "      <td>34920.0</td>\n",
       "      <td>NaN</td>\n",
       "      <td>NaN</td>\n",
       "    </tr>\n",
       "  </tbody>\n",
       "</table>\n",
       "</div>"
      ],
      "text/plain": [
       "                       sum_sq       df           F         PR(>F)\n",
       "C(color)           926.361461      4.0  237.014783  3.481145e-201\n",
       "C(cut)             630.641441      2.0  322.706309  1.348511e-139\n",
       "C(color):C(cut)     27.478611      8.0    3.515279   4.531734e-04\n",
       "Residual         34120.806577  34920.0         NaN            NaN"
      ]
     },
     "execution_count": 187,
     "metadata": {},
     "output_type": "execute_result"
    }
   ],
   "source": [
    "sm.stats.anova_lm(model3, typ=2)\n"
   ]
  },
  {
   "cell_type": "code",
   "execution_count": 188,
   "metadata": {},
   "outputs": [
    {
     "data": {
      "text/html": [
       "<div>\n",
       "<style scoped>\n",
       "    .dataframe tbody tr th:only-of-type {\n",
       "        vertical-align: middle;\n",
       "    }\n",
       "\n",
       "    .dataframe tbody tr th {\n",
       "        vertical-align: top;\n",
       "    }\n",
       "\n",
       "    .dataframe thead th {\n",
       "        text-align: right;\n",
       "    }\n",
       "</style>\n",
       "<table border=\"1\" class=\"dataframe\">\n",
       "  <thead>\n",
       "    <tr style=\"text-align: right;\">\n",
       "      <th></th>\n",
       "      <th>df</th>\n",
       "      <th>sum_sq</th>\n",
       "      <th>mean_sq</th>\n",
       "      <th>F</th>\n",
       "      <th>PR(&gt;F)</th>\n",
       "    </tr>\n",
       "  </thead>\n",
       "  <tbody>\n",
       "    <tr>\n",
       "      <th>C(color)</th>\n",
       "      <td>4.0</td>\n",
       "      <td>977.195814</td>\n",
       "      <td>244.298954</td>\n",
       "      <td>250.021037</td>\n",
       "      <td>3.747388e-212</td>\n",
       "    </tr>\n",
       "    <tr>\n",
       "      <th>C(cut)</th>\n",
       "      <td>2.0</td>\n",
       "      <td>630.641441</td>\n",
       "      <td>315.320721</td>\n",
       "      <td>322.706309</td>\n",
       "      <td>1.348511e-139</td>\n",
       "    </tr>\n",
       "    <tr>\n",
       "      <th>C(color):C(cut)</th>\n",
       "      <td>8.0</td>\n",
       "      <td>27.478611</td>\n",
       "      <td>3.434826</td>\n",
       "      <td>3.515279</td>\n",
       "      <td>4.531734e-04</td>\n",
       "    </tr>\n",
       "    <tr>\n",
       "      <th>Residual</th>\n",
       "      <td>34920.0</td>\n",
       "      <td>34120.806577</td>\n",
       "      <td>0.977114</td>\n",
       "      <td>NaN</td>\n",
       "      <td>NaN</td>\n",
       "    </tr>\n",
       "  </tbody>\n",
       "</table>\n",
       "</div>"
      ],
      "text/plain": [
       "                      df        sum_sq     mean_sq           F         PR(>F)\n",
       "C(color)             4.0    977.195814  244.298954  250.021037  3.747388e-212\n",
       "C(cut)               2.0    630.641441  315.320721  322.706309  1.348511e-139\n",
       "C(color):C(cut)      8.0     27.478611    3.434826    3.515279   4.531734e-04\n",
       "Residual         34920.0  34120.806577    0.977114         NaN            NaN"
      ]
     },
     "execution_count": 188,
     "metadata": {},
     "output_type": "execute_result"
    }
   ],
   "source": [
    "sm.stats.anova_lm(model3, typ = 1)"
   ]
  },
  {
   "cell_type": "code",
   "execution_count": 189,
   "metadata": {},
   "outputs": [
    {
     "data": {
      "text/html": [
       "<div>\n",
       "<style scoped>\n",
       "    .dataframe tbody tr th:only-of-type {\n",
       "        vertical-align: middle;\n",
       "    }\n",
       "\n",
       "    .dataframe tbody tr th {\n",
       "        vertical-align: top;\n",
       "    }\n",
       "\n",
       "    .dataframe thead th {\n",
       "        text-align: right;\n",
       "    }\n",
       "</style>\n",
       "<table border=\"1\" class=\"dataframe\">\n",
       "  <thead>\n",
       "    <tr style=\"text-align: right;\">\n",
       "      <th></th>\n",
       "      <th>sum_sq</th>\n",
       "      <th>df</th>\n",
       "      <th>F</th>\n",
       "      <th>PR(&gt;F)</th>\n",
       "    </tr>\n",
       "  </thead>\n",
       "  <tbody>\n",
       "    <tr>\n",
       "      <th>Intercept</th>\n",
       "      <td>157578.043681</td>\n",
       "      <td>1.0</td>\n",
       "      <td>161268.910012</td>\n",
       "      <td>0.000000e+00</td>\n",
       "    </tr>\n",
       "    <tr>\n",
       "      <th>C(color)</th>\n",
       "      <td>319.145817</td>\n",
       "      <td>4.0</td>\n",
       "      <td>81.655250</td>\n",
       "      <td>4.134649e-69</td>\n",
       "    </tr>\n",
       "    <tr>\n",
       "      <th>C(cut)</th>\n",
       "      <td>100.144107</td>\n",
       "      <td>2.0</td>\n",
       "      <td>51.244864</td>\n",
       "      <td>5.987341e-23</td>\n",
       "    </tr>\n",
       "    <tr>\n",
       "      <th>C(color):C(cut)</th>\n",
       "      <td>27.478611</td>\n",
       "      <td>8.0</td>\n",
       "      <td>3.515279</td>\n",
       "      <td>4.531734e-04</td>\n",
       "    </tr>\n",
       "    <tr>\n",
       "      <th>Residual</th>\n",
       "      <td>34120.806577</td>\n",
       "      <td>34920.0</td>\n",
       "      <td>NaN</td>\n",
       "      <td>NaN</td>\n",
       "    </tr>\n",
       "  </tbody>\n",
       "</table>\n",
       "</div>"
      ],
      "text/plain": [
       "                        sum_sq       df              F        PR(>F)\n",
       "Intercept        157578.043681      1.0  161268.910012  0.000000e+00\n",
       "C(color)            319.145817      4.0      81.655250  4.134649e-69\n",
       "C(cut)              100.144107      2.0      51.244864  5.987341e-23\n",
       "C(color):C(cut)      27.478611      8.0       3.515279  4.531734e-04\n",
       "Residual          34120.806577  34920.0            NaN           NaN"
      ]
     },
     "execution_count": 189,
     "metadata": {},
     "output_type": "execute_result"
    }
   ],
   "source": [
    "sm.stats.anova_lm(model3, typ = 3)"
   ]
  },
  {
   "cell_type": "markdown",
   "metadata": {},
   "source": [
    "### ANOVA Results Interpretation  \n",
    "\n",
    "Since all of the p-values in the `PR(>F)` column are very small, I can reject all three null hypotheses. The ANOVA tables provide the following key insights:  \n",
    "\n",
    "- **The p-value for `C(color)` is extremely small (4.13e-69)**, which is far below the standard significance level of 0.05. This means that **at least one diamond color group has a significantly different mean log_price compared to the others**.  \n",
    "- **The p-value for `C(cut)` is also very small (5.99e-23)**, indicating that at least one cut category has a significantly different effect on log_price.  \n",
    "- **The p-value for the interaction term `C(color):C(cut)` is 4.53e-4**, which is below 0.05. This suggests that **the effect of color on log_price depends on the cut, meaning there is a significant interaction between these two factors**.  \n",
    "- The **F-statistics for `C(color)`, `C(cut)`, and their interaction** are all quite large, indicating that the variation in log_price explained by these factors is much greater than the variation within each group.  \n",
    "\n",
    "### Observation  \n",
    "\n",
    "Since the ANOVA test is significant for both **main effects (color and cut)** and their **interaction**, I can conclude that **diamond price varies significantly across different color grades and cuts, and their combined effect also plays a role**.  \n",
    "\n",
    "However, ANOVA does not tell me **which specific colors and cuts differ from each other**—it only indicates that at least one group is different.  \n",
    "\n",
    "To determine **which specific color-cut combinations have significantly different mean prices**, I will proceed with **post-hoc pairwise comparisons** in the **ANOVA post hoc test section** of the notebook."
   ]
  },
  {
   "cell_type": "markdown",
   "metadata": {},
   "source": [
    "## ANOVA post hoc test\n",
    "\n",
    "When running multiple hypothesis tests at a 95% confidence level, there is an increasing risk of **false positives**—incorrectly rejecting the null hypothesis. **Post hoc tests** adjust for this and ensure that results remain statistically valid. Otherwise, interpreting multiple hypothesis tests without adjustment can lead to misleading conclusions."
   ]
  },
  {
   "cell_type": "markdown",
   "metadata": {},
   "source": [
    "### **One-Way ANOVA: Post Hoc Analysis**\n",
    "\n",
    "A **post hoc test** is required after **one-way ANOVA** to determine which specific groups differ. The focus here is on conducting **post hoc tests** after performing **one-way ANOVA** on color and cut using the `statsmodels` package in Python.\n",
    "\n",
    "### **Key Definitions:**  \n",
    "- **One-way ANOVA:** Compares the means of a continuous dependent variable across three or more groups of a categorical variable to determine if at least one group differs significantly.  \n",
    "- **Post hoc test:** Performs pairwise comparisons between all groups while controlling for the error rate to prevent inflated false positives.  \n"
   ]
  },
  {
   "cell_type": "markdown",
   "metadata": {},
   "source": [
    "### **Post Hoc Analysis: Pairwise Price Comparisons by Color Grade**"
   ]
  },
  {
   "cell_type": "markdown",
   "metadata": {},
   "source": [
    "I'll use the `statsmodels` package and the `ols` function to construct a simple linear regression model. Next, I load the dataset used in the one-way ANOVA for diamond color to conduct further analysis."
   ]
  },
  {
   "cell_type": "code",
   "execution_count": 190,
   "metadata": {},
   "outputs": [],
   "source": [
    "diamonds_color = pd.read_csv(r\"C:\\Users\\saswa\\Documents\\GitHub\\Diamonds-ANOVA-Analysis\\Data\\diamonds_color.csv\")\n"
   ]
  },
  {
   "cell_type": "markdown",
   "metadata": {},
   "source": [
    "### One-way ANOVA\n",
    "\n",
    "Here we follow the same steps as above:\n",
    "1. Build a simple linear regression model\n",
    "2. Check the results\n",
    "3. Run one-way ANOVA"
   ]
  },
  {
   "cell_type": "markdown",
   "metadata": {},
   "source": [
    "Since I have already built the regression model, I will use the same one instead of rebuilding it. The steps remain the same:  "
   ]
  },
  {
   "cell_type": "code",
   "execution_count": 191,
   "metadata": {},
   "outputs": [
    {
     "data": {
      "text/html": [
       "<table class=\"simpletable\">\n",
       "<caption>OLS Regression Results</caption>\n",
       "<tr>\n",
       "  <th>Dep. Variable:</th>        <td>log_price</td>    <th>  R-squared:         </th> <td>   0.026</td> \n",
       "</tr>\n",
       "<tr>\n",
       "  <th>Model:</th>                   <td>OLS</td>       <th>  Adj. R-squared:    </th> <td>   0.026</td> \n",
       "</tr>\n",
       "<tr>\n",
       "  <th>Method:</th>             <td>Least Squares</td>  <th>  F-statistic:       </th> <td>   265.0</td> \n",
       "</tr>\n",
       "<tr>\n",
       "  <th>Date:</th>             <td>Fri, 28 Mar 2025</td> <th>  Prob (F-statistic):</th> <td>3.61e-225</td>\n",
       "</tr>\n",
       "<tr>\n",
       "  <th>Time:</th>                 <td>21:31:25</td>     <th>  Log-Likelihood:    </th> <td> -56182.</td> \n",
       "</tr>\n",
       "<tr>\n",
       "  <th>No. Observations:</th>      <td> 39840</td>      <th>  AIC:               </th> <td>1.124e+05</td>\n",
       "</tr>\n",
       "<tr>\n",
       "  <th>Df Residuals:</th>          <td> 39835</td>      <th>  BIC:               </th> <td>1.124e+05</td>\n",
       "</tr>\n",
       "<tr>\n",
       "  <th>Df Model:</th>              <td>     4</td>      <th>                     </th>     <td> </td>    \n",
       "</tr>\n",
       "<tr>\n",
       "  <th>Covariance Type:</th>      <td>nonrobust</td>    <th>                     </th>     <td> </td>    \n",
       "</tr>\n",
       "</table>\n",
       "<table class=\"simpletable\">\n",
       "<tr>\n",
       "        <td></td>           <th>coef</th>     <th>std err</th>      <th>t</th>      <th>P>|t|</th>  <th>[0.025</th>    <th>0.975]</th>  \n",
       "</tr>\n",
       "<tr>\n",
       "  <th>Intercept</th>     <td>    7.6169</td> <td>    0.012</td> <td>  632.421</td> <td> 0.000</td> <td>    7.593</td> <td>    7.641</td>\n",
       "</tr>\n",
       "<tr>\n",
       "  <th>C(color)[T.E]</th> <td>   -0.0375</td> <td>    0.016</td> <td>   -2.394</td> <td> 0.017</td> <td>   -0.068</td> <td>   -0.007</td>\n",
       "</tr>\n",
       "<tr>\n",
       "  <th>C(color)[T.F]</th> <td>    0.1455</td> <td>    0.016</td> <td>    9.240</td> <td> 0.000</td> <td>    0.115</td> <td>    0.176</td>\n",
       "</tr>\n",
       "<tr>\n",
       "  <th>C(color)[T.H]</th> <td>    0.3015</td> <td>    0.016</td> <td>   18.579</td> <td> 0.000</td> <td>    0.270</td> <td>    0.333</td>\n",
       "</tr>\n",
       "<tr>\n",
       "  <th>C(color)[T.I]</th> <td>    0.4061</td> <td>    0.018</td> <td>   22.479</td> <td> 0.000</td> <td>    0.371</td> <td>    0.441</td>\n",
       "</tr>\n",
       "</table>\n",
       "<table class=\"simpletable\">\n",
       "<tr>\n",
       "  <th>Omnibus:</th>       <td>7112.992</td> <th>  Durbin-Watson:     </th> <td>   0.065</td>\n",
       "</tr>\n",
       "<tr>\n",
       "  <th>Prob(Omnibus):</th>  <td> 0.000</td>  <th>  Jarque-Bera (JB):  </th> <td>1542.881</td>\n",
       "</tr>\n",
       "<tr>\n",
       "  <th>Skew:</th>           <td> 0.079</td>  <th>  Prob(JB):          </th> <td>    0.00</td>\n",
       "</tr>\n",
       "<tr>\n",
       "  <th>Kurtosis:</th>       <td> 2.049</td>  <th>  Cond. No.          </th> <td>    6.32</td>\n",
       "</tr>\n",
       "</table><br/><br/>Notes:<br/>[1] Standard Errors assume that the covariance matrix of the errors is correctly specified."
      ],
      "text/latex": [
       "\\begin{center}\n",
       "\\begin{tabular}{lclc}\n",
       "\\toprule\n",
       "\\textbf{Dep. Variable:}    &    log\\_price    & \\textbf{  R-squared:         } &     0.026   \\\\\n",
       "\\textbf{Model:}            &       OLS        & \\textbf{  Adj. R-squared:    } &     0.026   \\\\\n",
       "\\textbf{Method:}           &  Least Squares   & \\textbf{  F-statistic:       } &     265.0   \\\\\n",
       "\\textbf{Date:}             & Fri, 28 Mar 2025 & \\textbf{  Prob (F-statistic):} & 3.61e-225   \\\\\n",
       "\\textbf{Time:}             &     21:31:25     & \\textbf{  Log-Likelihood:    } &   -56182.   \\\\\n",
       "\\textbf{No. Observations:} &       39840      & \\textbf{  AIC:               } & 1.124e+05   \\\\\n",
       "\\textbf{Df Residuals:}     &       39835      & \\textbf{  BIC:               } & 1.124e+05   \\\\\n",
       "\\textbf{Df Model:}         &           4      & \\textbf{                     } &             \\\\\n",
       "\\textbf{Covariance Type:}  &    nonrobust     & \\textbf{                     } &             \\\\\n",
       "\\bottomrule\n",
       "\\end{tabular}\n",
       "\\begin{tabular}{lcccccc}\n",
       "                       & \\textbf{coef} & \\textbf{std err} & \\textbf{t} & \\textbf{P$> |$t$|$} & \\textbf{[0.025} & \\textbf{0.975]}  \\\\\n",
       "\\midrule\n",
       "\\textbf{Intercept}     &       7.6169  &        0.012     &   632.421  &         0.000        &        7.593    &        7.641     \\\\\n",
       "\\textbf{C(color)[T.E]} &      -0.0375  &        0.016     &    -2.394  &         0.017        &       -0.068    &       -0.007     \\\\\n",
       "\\textbf{C(color)[T.F]} &       0.1455  &        0.016     &     9.240  &         0.000        &        0.115    &        0.176     \\\\\n",
       "\\textbf{C(color)[T.H]} &       0.3015  &        0.016     &    18.579  &         0.000        &        0.270    &        0.333     \\\\\n",
       "\\textbf{C(color)[T.I]} &       0.4061  &        0.018     &    22.479  &         0.000        &        0.371    &        0.441     \\\\\n",
       "\\bottomrule\n",
       "\\end{tabular}\n",
       "\\begin{tabular}{lclc}\n",
       "\\textbf{Omnibus:}       & 7112.992 & \\textbf{  Durbin-Watson:     } &    0.065  \\\\\n",
       "\\textbf{Prob(Omnibus):} &   0.000  & \\textbf{  Jarque-Bera (JB):  } & 1542.881  \\\\\n",
       "\\textbf{Skew:}          &   0.079  & \\textbf{  Prob(JB):          } &     0.00  \\\\\n",
       "\\textbf{Kurtosis:}      &   2.049  & \\textbf{  Cond. No.          } &     6.32  \\\\\n",
       "\\bottomrule\n",
       "\\end{tabular}\n",
       "%\\caption{OLS Regression Results}\n",
       "\\end{center}\n",
       "\n",
       "Notes: \\newline\n",
       " [1] Standard Errors assume that the covariance matrix of the errors is correctly specified."
      ],
      "text/plain": [
       "<class 'statsmodels.iolib.summary.Summary'>\n",
       "\"\"\"\n",
       "                            OLS Regression Results                            \n",
       "==============================================================================\n",
       "Dep. Variable:              log_price   R-squared:                       0.026\n",
       "Model:                            OLS   Adj. R-squared:                  0.026\n",
       "Method:                 Least Squares   F-statistic:                     265.0\n",
       "Date:                Fri, 28 Mar 2025   Prob (F-statistic):          3.61e-225\n",
       "Time:                        21:31:25   Log-Likelihood:                -56182.\n",
       "No. Observations:               39840   AIC:                         1.124e+05\n",
       "Df Residuals:                   39835   BIC:                         1.124e+05\n",
       "Df Model:                           4                                         \n",
       "Covariance Type:            nonrobust                                         \n",
       "=================================================================================\n",
       "                    coef    std err          t      P>|t|      [0.025      0.975]\n",
       "---------------------------------------------------------------------------------\n",
       "Intercept         7.6169      0.012    632.421      0.000       7.593       7.641\n",
       "C(color)[T.E]    -0.0375      0.016     -2.394      0.017      -0.068      -0.007\n",
       "C(color)[T.F]     0.1455      0.016      9.240      0.000       0.115       0.176\n",
       "C(color)[T.H]     0.3015      0.016     18.579      0.000       0.270       0.333\n",
       "C(color)[T.I]     0.4061      0.018     22.479      0.000       0.371       0.441\n",
       "==============================================================================\n",
       "Omnibus:                     7112.992   Durbin-Watson:                   0.065\n",
       "Prob(Omnibus):                  0.000   Jarque-Bera (JB):             1542.881\n",
       "Skew:                           0.079   Prob(JB):                         0.00\n",
       "Kurtosis:                       2.049   Cond. No.                         6.32\n",
       "==============================================================================\n",
       "\n",
       "Notes:\n",
       "[1] Standard Errors assume that the covariance matrix of the errors is correctly specified.\n",
       "\"\"\""
      ]
     },
     "execution_count": 191,
     "metadata": {},
     "output_type": "execute_result"
    }
   ],
   "source": [
    "model1.summary()"
   ]
  },
  {
   "cell_type": "markdown",
   "metadata": {},
   "source": [
    "Now that I am using the existing simple linear regression model, I can proceed with re-running the ANOVA"
   ]
  },
  {
   "cell_type": "code",
   "execution_count": 192,
   "metadata": {},
   "outputs": [
    {
     "data": {
      "text/html": [
       "<div>\n",
       "<style scoped>\n",
       "    .dataframe tbody tr th:only-of-type {\n",
       "        vertical-align: middle;\n",
       "    }\n",
       "\n",
       "    .dataframe tbody tr th {\n",
       "        vertical-align: top;\n",
       "    }\n",
       "\n",
       "    .dataframe thead th {\n",
       "        text-align: right;\n",
       "    }\n",
       "</style>\n",
       "<table border=\"1\" class=\"dataframe\">\n",
       "  <thead>\n",
       "    <tr style=\"text-align: right;\">\n",
       "      <th></th>\n",
       "      <th>sum_sq</th>\n",
       "      <th>df</th>\n",
       "      <th>F</th>\n",
       "      <th>PR(&gt;F)</th>\n",
       "    </tr>\n",
       "  </thead>\n",
       "  <tbody>\n",
       "    <tr>\n",
       "      <th>C(color)</th>\n",
       "      <td>1041.690290</td>\n",
       "      <td>4.0</td>\n",
       "      <td>264.987395</td>\n",
       "      <td>3.609774e-225</td>\n",
       "    </tr>\n",
       "    <tr>\n",
       "      <th>Residual</th>\n",
       "      <td>39148.779822</td>\n",
       "      <td>39835.0</td>\n",
       "      <td>NaN</td>\n",
       "      <td>NaN</td>\n",
       "    </tr>\n",
       "  </tbody>\n",
       "</table>\n",
       "</div>"
      ],
      "text/plain": [
       "                sum_sq       df           F         PR(>F)\n",
       "C(color)   1041.690290      4.0  264.987395  3.609774e-225\n",
       "Residual  39148.779822  39835.0         NaN            NaN"
      ]
     },
     "execution_count": 192,
     "metadata": {},
     "output_type": "execute_result"
    }
   ],
   "source": [
    "sm.stats.anova_lm(model1, typ=2)"
   ]
  },
  {
   "cell_type": "markdown",
   "metadata": {},
   "source": [
    "Since the p-value is very small, I can reject the null hypothesis that the mean price is the same across all diamond color grades. However, one-way ANOVA only indicates that at least one group differs—it does not specify which colors are associated with significantly different prices. To gain more insight, I will conduct a post hoc test to identify the specific differences between color groups."
   ]
  },
  {
   "cell_type": "markdown",
   "metadata": {},
   "source": [
    "## Post hoc test\n",
    "\n",
    "There are several post hoc tests available, but one of the most commonly used after ANOVA is **Tukey's HSD (honestly significantly different) test**. This test helps identify which specific groups have significantly different means. I can use the `pairwise_tukeyhsd()` function from the `statsmodels` package to perform this analysis.\n",
    "Next, I can run the test using `pairwise_tukeyhsd()`. The parameters are as follows:  \n",
    "\n",
    "- **`endog`**: Specifies the dependent variable being compared across groups, which in this case is `log_price`.  \n",
    "- **`groups`**: Indicates the categorical variable defining the groups, which is `color`.  \n",
    "- **`alpha`**: Sets the significance level. I will use `0.05` to maintain a 95% confidence level.  "
   ]
  },
  {
   "cell_type": "markdown",
   "metadata": {},
   "source": [
    "Since the ANOVA test suggests a significant effect, I proceed with **Tukey's Honest Significant Difference (HSD) test**. This post hoc test helps determine which specific color groups have significantly different mean log prices while controlling for Type I error."
   ]
  },
  {
   "cell_type": "markdown",
   "metadata": {},
   "source": [
    "Next, I can run the test using `pairwise_tukeyhsd()`. "
   ]
  },
  {
   "cell_type": "code",
   "execution_count": 193,
   "metadata": {},
   "outputs": [],
   "source": [
    "tukey_oneway = pairwise_tukeyhsd(endog=diamonds_color[\"log_price\"], groups=diamonds_color[\"color\"], alpha=0.05)\n"
   ]
  },
  {
   "cell_type": "markdown",
   "metadata": {},
   "source": [
    "This test performs pairwise comparisons between all color groups. The results reveal which color grades have significantly different price distributions.\n"
   ]
  },
  {
   "cell_type": "markdown",
   "metadata": {},
   "source": [
    "Lastly, I get the results of the test."
   ]
  },
  {
   "cell_type": "code",
   "execution_count": 194,
   "metadata": {},
   "outputs": [
    {
     "data": {
      "text/html": [
       "<table class=\"simpletable\">\n",
       "<caption>Multiple Comparison of Means - Tukey HSD, FWER=0.05</caption>\n",
       "<tr>\n",
       "  <th>group1</th> <th>group2</th> <th>meandiff</th>  <th>p-adj</th>  <th>lower</th>   <th>upper</th> <th>reject</th>\n",
       "</tr>\n",
       "<tr>\n",
       "     <td>D</td>      <td>E</td>    <td>-0.0375</td> <td>0.1169</td> <td>-0.0802</td> <td>0.0052</td>  <td>False</td>\n",
       "</tr>\n",
       "<tr>\n",
       "     <td>D</td>      <td>F</td>    <td>0.1455</td>    <td>0.0</td>  <td>0.1026</td>  <td>0.1885</td>  <td>True</td> \n",
       "</tr>\n",
       "<tr>\n",
       "     <td>D</td>      <td>H</td>    <td>0.3015</td>    <td>0.0</td>  <td>0.2573</td>  <td>0.3458</td>  <td>True</td> \n",
       "</tr>\n",
       "<tr>\n",
       "     <td>D</td>      <td>I</td>    <td>0.4061</td>    <td>0.0</td>  <td>0.3568</td>  <td>0.4553</td>  <td>True</td> \n",
       "</tr>\n",
       "<tr>\n",
       "     <td>E</td>      <td>F</td>     <td>0.183</td>    <td>0.0</td>  <td>0.1441</td>  <td>0.2219</td>  <td>True</td> \n",
       "</tr>\n",
       "<tr>\n",
       "     <td>E</td>      <td>H</td>     <td>0.339</td>    <td>0.0</td>  <td>0.2987</td>  <td>0.3794</td>  <td>True</td> \n",
       "</tr>\n",
       "<tr>\n",
       "     <td>E</td>      <td>I</td>    <td>0.4436</td>    <td>0.0</td>  <td>0.3978</td>  <td>0.4893</td>  <td>True</td> \n",
       "</tr>\n",
       "<tr>\n",
       "     <td>F</td>      <td>H</td>     <td>0.156</td>    <td>0.0</td>  <td>0.1154</td>  <td>0.1966</td>  <td>True</td> \n",
       "</tr>\n",
       "<tr>\n",
       "     <td>F</td>      <td>I</td>    <td>0.2605</td>    <td>0.0</td>  <td>0.2145</td>  <td>0.3065</td>  <td>True</td> \n",
       "</tr>\n",
       "<tr>\n",
       "     <td>H</td>      <td>I</td>    <td>0.1045</td>    <td>0.0</td>  <td>0.0573</td>  <td>0.1517</td>  <td>True</td> \n",
       "</tr>\n",
       "</table>"
      ],
      "text/latex": [
       "\\begin{center}\n",
       "\\begin{tabular}{ccccccc}\n",
       "\\toprule\n",
       "\\textbf{group1} & \\textbf{group2} & \\textbf{meandiff} & \\textbf{p-adj} & \\textbf{lower} & \\textbf{upper} & \\textbf{reject}  \\\\\n",
       "\\midrule\n",
       "       D        &        E        &      -0.0375      &     0.1169     &    -0.0802     &     0.0052     &      False       \\\\\n",
       "       D        &        F        &       0.1455      &      0.0       &     0.1026     &     0.1885     &       True       \\\\\n",
       "       D        &        H        &       0.3015      &      0.0       &     0.2573     &     0.3458     &       True       \\\\\n",
       "       D        &        I        &       0.4061      &      0.0       &     0.3568     &     0.4553     &       True       \\\\\n",
       "       E        &        F        &       0.183       &      0.0       &     0.1441     &     0.2219     &       True       \\\\\n",
       "       E        &        H        &       0.339       &      0.0       &     0.2987     &     0.3794     &       True       \\\\\n",
       "       E        &        I        &       0.4436      &      0.0       &     0.3978     &     0.4893     &       True       \\\\\n",
       "       F        &        H        &       0.156       &      0.0       &     0.1154     &     0.1966     &       True       \\\\\n",
       "       F        &        I        &       0.2605      &      0.0       &     0.2145     &     0.3065     &       True       \\\\\n",
       "       H        &        I        &       0.1045      &      0.0       &     0.0573     &     0.1517     &       True       \\\\\n",
       "\\bottomrule\n",
       "\\end{tabular}\n",
       "%\\caption{Multiple Comparison of Means - Tukey HSD, FWER=0.05}\n",
       "\\end{center}"
      ],
      "text/plain": [
       "<class 'statsmodels.iolib.table.SimpleTable'>"
      ]
     },
     "execution_count": 194,
     "metadata": {},
     "output_type": "execute_result"
    }
   ],
   "source": [
    "tukey_oneway.summary()"
   ]
  },
  {
   "cell_type": "markdown",
   "metadata": {},
   "source": [
    "\n",
    "### **Interpretation of Tukey's HSD Test Results**  \n",
    "\n",
    "The **Tukey's Honest Significant Difference (HSD) test** compares the mean log prices across different diamond color groups and identifies significant differences.  \n",
    "\n",
    "#### **Understanding the Tukey HSD Table:**  \n",
    "- The **p-adj (adjusted p-value)** column determines statistical significance. A p-value below 0.05 indicates a significant difference between two color groups.  \n",
    "- The **reject** column states whether the null hypothesis (equal means) is rejected (`True`) or not (`False`).  \n",
    "- The **mean difference (meandiff)** column shows the difference in mean log prices between the two groups.  \n",
    "- The **lower and upper bounds** represent the confidence interval for the mean difference.  \n",
    "\n",
    "#### **Observations:**  \n",
    "1. **No significant difference between colors D and E** (p = 0.1169, reject = False). Their mean log prices are similar, meaning we cannot reject the null hypothesis that their prices are the same.  \n",
    "2. **Significant differences exist between most color pairs**, meaning that their mean log prices vary significantly.  \n",
    "3. The largest difference is observed between **E and I** (mean difference = 0.4436), suggesting that diamonds with color I have a much higher log price than those with color E.  \n",
    "4. All significant pairs have **positive mean differences**, indicating that the second color group in each pair generally has a **higher** mean log price than the first.  \n",
    "5. The **confidence intervals (lower, upper) do not include zero** for significant comparisons, reinforcing the results.  \n",
    "6. Each row represents a **pairwise comparison between the prices of two diamond color grades**. The `reject` column tells us which null hypotheses we can reject. **We can reject each null hypothesis except for the comparison between D and E colors.**  "
   ]
  },
  {
   "cell_type": "markdown",
   "metadata": {},
   "source": [
    "\n",
    "#### **Test 1: D vs. E**\n",
    "$H_0: price_D=price_E$\n",
    "\n",
    "The price of D and E color grade diamonds are the same.\n",
    "\n",
    "$H_1: price_D \\neq price_E$\n",
    "\n",
    "The price of D and E color grade diamonds are not the same.\n",
    "\n",
    "**Result:** We *cannot* reject the null hypothesis that the price of D and E color grade diamonds are the same.\n",
    "\n",
    "#### **Test 2: D vs. F**\n",
    "$H_0: price_D=price_F$\n",
    "\n",
    "The price of D and F color grade diamonds are the same.\n",
    "\n",
    "$H_1: price_D \\neq price_F$\n",
    "\n",
    "The price of D and F color grade diamonds are not the same.\n",
    "\n",
    "**Result:** We *can* reject the null hypothesis that the price of D and F color grade diamonds are the same.\n",
    "\n",
    "#### **Test 3: D vs. H**\n",
    "$H_0: price_D=price_H$\n",
    "\n",
    "The price of D and H color grade diamonds are the same.\n",
    "\n",
    "$H_1: price_D \\neq price_H$\n",
    "\n",
    "The price of D and H color grade diamonds are not the same.\n",
    "\n",
    "**Result:** We *can* reject the null hypothesis that the price of D and H color grade diamonds are the same.\n",
    "\n",
    "#### **Test 4: D vs. I**\n",
    "$H_0: price_D=price_I$\n",
    "\n",
    "The price of D and I color grade diamonds are the same.\n",
    "\n",
    "$H_1: price_D \\neq price_I$\n",
    "\n",
    "The price of D and I color grade diamonds are not the same.\n",
    "\n",
    "**Result:** We *can* reject the null hypothesis that the price of D and I color grade diamonds are the same.\n",
    "\n",
    "#### **Test 5: E vs. F**\n",
    "$H_0: price_E=price_F$\n",
    "\n",
    "The price of E and F color grade diamonds are the same.\n",
    "\n",
    "$H_1: price_E \\neq price_F$\n",
    "\n",
    "The price of E and F color grade diamonds are not the same.\n",
    "\n",
    "**Result:** We *can* reject the null hypothesis that the price of E and F color grade diamonds are the same.\n",
    "\n",
    "#### **Test 6: E vs. H**\n",
    "$H_0: price_E=price_H$\n",
    "\n",
    "The price of E and H color grade diamonds are the same.\n",
    "\n",
    "$H_1: price_E \\neq price_H$\n",
    "\n",
    "The price of E and H color grade diamonds are not the same.\n",
    "\n",
    "**Result:** We *can* reject the null hypothesis that the price of E and H color grade diamonds are the same.\n",
    "\n",
    "#### **Test 7: E vs. I**\n",
    "$H_0: price_E=price_I$\n",
    "\n",
    "The price of E and I color grade diamonds are the same.\n",
    "\n",
    "$H_1: price_E \\neq price_I$\n",
    "\n",
    "The price of E and I color grade diamonds are not the same.\n",
    "\n",
    "**Result:** We *can* reject the null hypothesis that the price of E and I color grade diamonds are the same.\n",
    "\n",
    "#### **Test 8: F vs. H**\n",
    "$H_0: price_F=price_H$\n",
    "\n",
    "The price of F and H color grade diamonds are the same.\n",
    "\n",
    "$H_1: price_F \\neq price_H$\n",
    "\n",
    "The price of F and H color grade diamonds are not the same.\n",
    "\n",
    "**Result:** We *can* reject the null hypothesis that the price of F and H color grade diamonds are the same.\n",
    "\n",
    "#### **Test 9: F vs. I**\n",
    "$H_0: price_F=price_I$\n",
    "\n",
    "The price of F and I color grade diamonds are the same.\n",
    "\n",
    "$H_1: price_F \\neq price_I$\n",
    "\n",
    "The price of F and I color grade diamonds are not the same.\n",
    "\n",
    "**Result:** We *can* reject the null hypothesis that the price of F and I color grade diamonds are the same.\n",
    "\n",
    "#### **Test 10: H vs. I**\n",
    "$H_0: price_H=price_I$\n",
    "\n",
    "The price of H and I color grade diamonds are the same.\n",
    "\n",
    "$H_1: price_H \\neq price_I$\n",
    "\n",
    "The price of H and I color grade diamonds are not the same.\n",
    "\n",
    "**Result:** We *can* reject the null hypothesis that the price of H and I color grade diamonds are the same.\n",
    "\n"
   ]
  },
  {
   "cell_type": "markdown",
   "metadata": {},
   "source": [
    "### **Conclusion:**  \n",
    "The results confirm that **diamond color significantly affects price**, with **most color groups having distinct mean log prices**. The findings from Tukey’s HSD test align with the ANOVA results, providing deeper insight into **which specific color pairs differ in price**."
   ]
  },
  {
   "cell_type": "markdown",
   "metadata": {},
   "source": [
    "### **Post Hoc Analysis: Pairwise Price Comparisons by Cut Quality**\n"
   ]
  },
  {
   "cell_type": "markdown",
   "metadata": {},
   "source": [
    "I'll first load the dataset used in the one-way ANOVA for diamond cut to conduct further analysis."
   ]
  },
  {
   "cell_type": "code",
   "execution_count": 195,
   "metadata": {},
   "outputs": [],
   "source": [
    "diamonds_cut=pd.read_csv(r\"C:\\Users\\saswa\\Documents\\GitHub\\Diamonds-ANOVA-Analysis\\Data\\diamonds_cut.csv\")\n"
   ]
  },
  {
   "cell_type": "markdown",
   "metadata": {},
   "source": [
    "Since I have already built the regression model, I will use the same one instead of rebuilding it. The steps remain the same:  "
   ]
  },
  {
   "cell_type": "code",
   "execution_count": 196,
   "metadata": {},
   "outputs": [
    {
     "data": {
      "text/html": [
       "<table class=\"simpletable\">\n",
       "<caption>OLS Regression Results</caption>\n",
       "<tr>\n",
       "  <th>Dep. Variable:</th>        <td>log_price</td>    <th>  R-squared:         </th> <td>   0.017</td> \n",
       "</tr>\n",
       "<tr>\n",
       "  <th>Model:</th>                   <td>OLS</td>       <th>  Adj. R-squared:    </th> <td>   0.017</td> \n",
       "</tr>\n",
       "<tr>\n",
       "  <th>Method:</th>             <td>Least Squares</td>  <th>  F-statistic:       </th> <td>   401.8</td> \n",
       "</tr>\n",
       "<tr>\n",
       "  <th>Date:</th>             <td>Fri, 28 Mar 2025</td> <th>  Prob (F-statistic):</th> <td>9.09e-174</td>\n",
       "</tr>\n",
       "<tr>\n",
       "  <th>Time:</th>                 <td>21:31:25</td>     <th>  Log-Likelihood:    </th> <td> -67996.</td> \n",
       "</tr>\n",
       "<tr>\n",
       "  <th>No. Observations:</th>      <td> 47424</td>      <th>  AIC:               </th> <td>1.360e+05</td>\n",
       "</tr>\n",
       "<tr>\n",
       "  <th>Df Residuals:</th>          <td> 47421</td>      <th>  BIC:               </th> <td>1.360e+05</td>\n",
       "</tr>\n",
       "<tr>\n",
       "  <th>Df Model:</th>              <td>     2</td>      <th>                     </th>     <td> </td>    \n",
       "</tr>\n",
       "<tr>\n",
       "  <th>Covariance Type:</th>      <td>nonrobust</td>    <th>                     </th>     <td> </td>    \n",
       "</tr>\n",
       "</table>\n",
       "<table class=\"simpletable\">\n",
       "<tr>\n",
       "           <td></td>              <th>coef</th>     <th>std err</th>      <th>t</th>      <th>P>|t|</th>  <th>[0.025</th>    <th>0.975]</th>  \n",
       "</tr>\n",
       "<tr>\n",
       "  <th>Intercept</th>           <td>    7.6395</td> <td>    0.007</td> <td> 1104.927</td> <td> 0.000</td> <td>    7.626</td> <td>    7.653</td>\n",
       "</tr>\n",
       "<tr>\n",
       "  <th>C(cut)[T.Premium]</th>   <td>    0.3113</td> <td>    0.011</td> <td>   28.128</td> <td> 0.000</td> <td>    0.290</td> <td>    0.333</td>\n",
       "</tr>\n",
       "<tr>\n",
       "  <th>C(cut)[T.Very Good]</th> <td>    0.1592</td> <td>    0.012</td> <td>   13.800</td> <td> 0.000</td> <td>    0.137</td> <td>    0.182</td>\n",
       "</tr>\n",
       "</table>\n",
       "<table class=\"simpletable\">\n",
       "<tr>\n",
       "  <th>Omnibus:</th>       <td>15696.350</td> <th>  Durbin-Watson:     </th> <td>   0.051</td>\n",
       "</tr>\n",
       "<tr>\n",
       "  <th>Prob(Omnibus):</th>  <td> 0.000</td>   <th>  Jarque-Bera (JB):  </th> <td>2401.035</td>\n",
       "</tr>\n",
       "<tr>\n",
       "  <th>Skew:</th>           <td> 0.146</td>   <th>  Prob(JB):          </th> <td>    0.00</td>\n",
       "</tr>\n",
       "<tr>\n",
       "  <th>Kurtosis:</th>       <td> 1.937</td>   <th>  Cond. No.          </th> <td>    3.32</td>\n",
       "</tr>\n",
       "</table><br/><br/>Notes:<br/>[1] Standard Errors assume that the covariance matrix of the errors is correctly specified."
      ],
      "text/latex": [
       "\\begin{center}\n",
       "\\begin{tabular}{lclc}\n",
       "\\toprule\n",
       "\\textbf{Dep. Variable:}      &    log\\_price    & \\textbf{  R-squared:         } &     0.017   \\\\\n",
       "\\textbf{Model:}              &       OLS        & \\textbf{  Adj. R-squared:    } &     0.017   \\\\\n",
       "\\textbf{Method:}             &  Least Squares   & \\textbf{  F-statistic:       } &     401.8   \\\\\n",
       "\\textbf{Date:}               & Fri, 28 Mar 2025 & \\textbf{  Prob (F-statistic):} & 9.09e-174   \\\\\n",
       "\\textbf{Time:}               &     21:31:25     & \\textbf{  Log-Likelihood:    } &   -67996.   \\\\\n",
       "\\textbf{No. Observations:}   &       47424      & \\textbf{  AIC:               } & 1.360e+05   \\\\\n",
       "\\textbf{Df Residuals:}       &       47421      & \\textbf{  BIC:               } & 1.360e+05   \\\\\n",
       "\\textbf{Df Model:}           &           2      & \\textbf{                     } &             \\\\\n",
       "\\textbf{Covariance Type:}    &    nonrobust     & \\textbf{                     } &             \\\\\n",
       "\\bottomrule\n",
       "\\end{tabular}\n",
       "\\begin{tabular}{lcccccc}\n",
       "                             & \\textbf{coef} & \\textbf{std err} & \\textbf{t} & \\textbf{P$> |$t$|$} & \\textbf{[0.025} & \\textbf{0.975]}  \\\\\n",
       "\\midrule\n",
       "\\textbf{Intercept}           &       7.6395  &        0.007     &  1104.927  &         0.000        &        7.626    &        7.653     \\\\\n",
       "\\textbf{C(cut)[T.Premium]}   &       0.3113  &        0.011     &    28.128  &         0.000        &        0.290    &        0.333     \\\\\n",
       "\\textbf{C(cut)[T.Very Good]} &       0.1592  &        0.012     &    13.800  &         0.000        &        0.137    &        0.182     \\\\\n",
       "\\bottomrule\n",
       "\\end{tabular}\n",
       "\\begin{tabular}{lclc}\n",
       "\\textbf{Omnibus:}       & 15696.350 & \\textbf{  Durbin-Watson:     } &    0.051  \\\\\n",
       "\\textbf{Prob(Omnibus):} &    0.000  & \\textbf{  Jarque-Bera (JB):  } & 2401.035  \\\\\n",
       "\\textbf{Skew:}          &    0.146  & \\textbf{  Prob(JB):          } &     0.00  \\\\\n",
       "\\textbf{Kurtosis:}      &    1.937  & \\textbf{  Cond. No.          } &     3.32  \\\\\n",
       "\\bottomrule\n",
       "\\end{tabular}\n",
       "%\\caption{OLS Regression Results}\n",
       "\\end{center}\n",
       "\n",
       "Notes: \\newline\n",
       " [1] Standard Errors assume that the covariance matrix of the errors is correctly specified."
      ],
      "text/plain": [
       "<class 'statsmodels.iolib.summary.Summary'>\n",
       "\"\"\"\n",
       "                            OLS Regression Results                            \n",
       "==============================================================================\n",
       "Dep. Variable:              log_price   R-squared:                       0.017\n",
       "Model:                            OLS   Adj. R-squared:                  0.017\n",
       "Method:                 Least Squares   F-statistic:                     401.8\n",
       "Date:                Fri, 28 Mar 2025   Prob (F-statistic):          9.09e-174\n",
       "Time:                        21:31:25   Log-Likelihood:                -67996.\n",
       "No. Observations:               47424   AIC:                         1.360e+05\n",
       "Df Residuals:                   47421   BIC:                         1.360e+05\n",
       "Df Model:                           2                                         \n",
       "Covariance Type:            nonrobust                                         \n",
       "=======================================================================================\n",
       "                          coef    std err          t      P>|t|      [0.025      0.975]\n",
       "---------------------------------------------------------------------------------------\n",
       "Intercept               7.6395      0.007   1104.927      0.000       7.626       7.653\n",
       "C(cut)[T.Premium]       0.3113      0.011     28.128      0.000       0.290       0.333\n",
       "C(cut)[T.Very Good]     0.1592      0.012     13.800      0.000       0.137       0.182\n",
       "==============================================================================\n",
       "Omnibus:                    15696.350   Durbin-Watson:                   0.051\n",
       "Prob(Omnibus):                  0.000   Jarque-Bera (JB):             2401.035\n",
       "Skew:                           0.146   Prob(JB):                         0.00\n",
       "Kurtosis:                       1.937   Cond. No.                         3.32\n",
       "==============================================================================\n",
       "\n",
       "Notes:\n",
       "[1] Standard Errors assume that the covariance matrix of the errors is correctly specified.\n",
       "\"\"\""
      ]
     },
     "execution_count": 196,
     "metadata": {},
     "output_type": "execute_result"
    }
   ],
   "source": [
    "model2.summary()"
   ]
  },
  {
   "cell_type": "markdown",
   "metadata": {},
   "source": [
    "Now that I am using the existing simple linear regression model, I can proceed with re-running the ANOVA\n"
   ]
  },
  {
   "cell_type": "code",
   "execution_count": 197,
   "metadata": {},
   "outputs": [
    {
     "data": {
      "text/html": [
       "<div>\n",
       "<style scoped>\n",
       "    .dataframe tbody tr th:only-of-type {\n",
       "        vertical-align: middle;\n",
       "    }\n",
       "\n",
       "    .dataframe tbody tr th {\n",
       "        vertical-align: top;\n",
       "    }\n",
       "\n",
       "    .dataframe thead th {\n",
       "        text-align: right;\n",
       "    }\n",
       "</style>\n",
       "<table border=\"1\" class=\"dataframe\">\n",
       "  <thead>\n",
       "    <tr style=\"text-align: right;\">\n",
       "      <th></th>\n",
       "      <th>sum_sq</th>\n",
       "      <th>df</th>\n",
       "      <th>F</th>\n",
       "      <th>PR(&gt;F)</th>\n",
       "    </tr>\n",
       "  </thead>\n",
       "  <tbody>\n",
       "    <tr>\n",
       "      <th>C(cut)</th>\n",
       "      <td>827.898297</td>\n",
       "      <td>2.0</td>\n",
       "      <td>401.809593</td>\n",
       "      <td>9.087145e-174</td>\n",
       "    </tr>\n",
       "    <tr>\n",
       "      <th>Residual</th>\n",
       "      <td>48853.693162</td>\n",
       "      <td>47421.0</td>\n",
       "      <td>NaN</td>\n",
       "      <td>NaN</td>\n",
       "    </tr>\n",
       "  </tbody>\n",
       "</table>\n",
       "</div>"
      ],
      "text/plain": [
       "                sum_sq       df           F         PR(>F)\n",
       "C(cut)      827.898297      2.0  401.809593  9.087145e-174\n",
       "Residual  48853.693162  47421.0         NaN            NaN"
      ]
     },
     "execution_count": 197,
     "metadata": {},
     "output_type": "execute_result"
    }
   ],
   "source": [
    "sm.stats.anova_lm(model2, typ=2)"
   ]
  },
  {
   "cell_type": "markdown",
   "metadata": {},
   "source": [
    "\n",
    "Since the p-value is extremely small (9.09e-174), I can reject the null hypothesis that the mean price is the same across all diamond cut qualities. However, one-way ANOVA only tells me that at least one cut quality differs in price—it does not specify which cuts have significant differences. To gain more insight, I will conduct a post hoc test to identify the specific differences between cut groups."
   ]
  },
  {
   "cell_type": "markdown",
   "metadata": {},
   "source": [
    "\n",
    "## Post hoc test\n",
    "\n",
    "Since the ANOVA test suggests a significant effect, I proceed with **Tukey's Honest Significant Difference (HSD) test**. This post hoc test helps determine which specific cut groups have significantly different mean prices while controlling for Type I error.\n",
    "Next, I can run the test using `pairwise_tukeyhsd()`. "
   ]
  },
  {
   "cell_type": "code",
   "execution_count": null,
   "metadata": {},
   "outputs": [],
   "source": [
    "tukey_oneway1 = pairwise_tukeyhsd(endog=diamonds_cut[\"log_price\"], groups=diamonds_cut[\"cut\"], alpha=0.05)"
   ]
  },
  {
   "cell_type": "markdown",
   "metadata": {},
   "source": [
    "This test performs pairwise comparisons between all cut groups. The results reveal which cut qualities have significantly different price distributions.\n",
    "Lastly, I get the results of the test."
   ]
  },
  {
   "cell_type": "code",
   "execution_count": null,
   "metadata": {},
   "outputs": [
    {
     "data": {
      "text/html": [
       "<table class=\"simpletable\">\n",
       "<caption>Multiple Comparison of Means - Tukey HSD, FWER=0.05</caption>\n",
       "<tr>\n",
       "  <th>group1</th>   <th>group2</th>   <th>meandiff</th> <th>p-adj</th>  <th>lower</th>   <th>upper</th>  <th>reject</th>\n",
       "</tr>\n",
       "<tr>\n",
       "   <td>Ideal</td>   <td>Premium</td>   <td>0.3113</td>   <td>0.0</td>  <td>0.2854</td>  <td>0.3373</td>   <td>True</td> \n",
       "</tr>\n",
       "<tr>\n",
       "   <td>Ideal</td>  <td>Very Good</td>  <td>0.1592</td>   <td>0.0</td>  <td>0.1322</td>  <td>0.1862</td>   <td>True</td> \n",
       "</tr>\n",
       "<tr>\n",
       "  <td>Premium</td> <td>Very Good</td>  <td>-0.1521</td>  <td>0.0</td>  <td>-0.1818</td> <td>-0.1225</td>  <td>True</td> \n",
       "</tr>\n",
       "</table>"
      ],
      "text/latex": [
       "\\begin{center}\n",
       "\\begin{tabular}{ccccccc}\n",
       "\\toprule\n",
       "\\textbf{group1} & \\textbf{group2} & \\textbf{meandiff} & \\textbf{p-adj} & \\textbf{lower} & \\textbf{upper} & \\textbf{reject}  \\\\\n",
       "\\midrule\n",
       "     Ideal      &     Premium     &       0.3113      &      0.0       &     0.2854     &     0.3373     &       True       \\\\\n",
       "     Ideal      &    Very Good    &       0.1592      &      0.0       &     0.1322     &     0.1862     &       True       \\\\\n",
       "    Premium     &    Very Good    &      -0.1521      &      0.0       &    -0.1818     &    -0.1225     &       True       \\\\\n",
       "\\bottomrule\n",
       "\\end{tabular}\n",
       "%\\caption{Multiple Comparison of Means - Tukey HSD, FWER=0.05}\n",
       "\\end{center}"
      ],
      "text/plain": [
       "<class 'statsmodels.iolib.table.SimpleTable'>"
      ]
     },
     "execution_count": 199,
     "metadata": {},
     "output_type": "execute_result"
    }
   ],
   "source": [
    "tukey_oneway1.summary()"
   ]
  },
  {
   "cell_type": "markdown",
   "metadata": {},
   "source": [
    "### **Interpretation of Tukey's HSD Test Results**  \n",
    "\n",
    "The **Tukey's Honest Significant Difference (HSD) test** compares the mean prices across different diamond cut groups and identifies significant differences.  \n",
    "\n",
    "#### **Understanding the Tukey HSD Table:**  \n",
    "- The **p-adj (adjusted p-value)** column determines statistical significance. A p-value below 0.05 indicates a significant difference between two cut groups.  \n",
    "- The **reject** column states whether the null hypothesis (equal means) is rejected (`True`) or not (`False`).  \n",
    "- The **mean difference (meandiff)** column shows the difference in mean prices between the two groups.  \n",
    "- The **lower and upper bounds** represent the confidence interval for the mean difference.  \n",
    "\n",
    "#### **Observations:**  \n",
    "1. **Significant differences exist between all cut quality pairs**, as all p-values are 0.  \n",
    "2. **Premium vs. Ideal:** The mean price difference is **0.3113**, with a confidence interval of (0.2854, 0.3373). Since the interval does not include zero and the null hypothesis is rejected, Premium-cut diamonds are significantly more expensive than Ideal-cut diamonds.  \n",
    "3. **Very Good vs. Ideal:** The mean price difference is **0.1592**, also significant, indicating that Very Good-cut diamonds tend to be priced higher than Ideal-cut diamonds.  \n",
    "4. **Very Good vs. Premium:** The mean price difference is **-0.1521**, meaning that Premium-cut diamonds have significantly higher prices than Very Good-cut diamonds.  \n",
    "5. The **confidence intervals (lower, upper) do not include zero** for any comparison, reinforcing that these price differences are statistically significant.  \n",
    "\n",
    "These results confirm that diamond prices vary significantly across different cut qualities, with Premium-cut diamonds commanding the highest prices, followed by Ideal and Very Good cuts."
   ]
  },
  {
   "cell_type": "markdown",
   "metadata": {},
   "source": [
    "#### **Test 1: Ideal vs. Premium**  \n",
    "$H_0: price_{Ideal} = price_{Premium}$  \n",
    "\n",
    "The price of Ideal and Premium cut diamonds are the same.  \n",
    "\n",
    "$H_1: price_{Ideal} \\neq price_{Premium}$  \n",
    "\n",
    "The price of Ideal and Premium cut diamonds are not the same.  \n",
    "\n",
    "**Result:** We *can* reject the null hypothesis that the price of Ideal and Premium cut diamonds are the same.  \n",
    "\n",
    "#### **Test 2: Ideal vs. Very Good**  \n",
    "$H_0: price_{Ideal} = price_{VeryGood}$  \n",
    "\n",
    "The price of Ideal and Very Good cut diamonds are the same.  \n",
    "\n",
    "$H_1: price_{Ideal} \\neq price_{VeryGood}$  \n",
    "\n",
    "The price of Ideal and Very Good cut diamonds are not the same.  \n",
    "\n",
    "**Result:** We *can* reject the null hypothesis that the price of Ideal and Very Good cut diamonds are the same.  \n",
    "\n",
    "#### **Test 3: Premium vs. Very Good**  \n",
    "$H_0: price_{Premium} = price_{VeryGood}$  \n",
    "\n",
    "The price of Premium and Very Good cut diamonds are the same.  \n",
    "\n",
    "$H_1: price_{Premium} \\neq price_{VeryGood}$  \n",
    "\n",
    "The price of Premium and Very Good cut diamonds are not the same.  \n",
    "\n",
    "**Result:** We *can* reject the null hypothesis that the price of Premium and Very Good cut diamonds are the same.  \n",
    "### **Conclusion:**  \n",
    "The results confirm that **diamond cut significantly affects price**, with **each cut category having distinct mean prices**. The findings from Tukey’s HSD test align with the ANOVA results, providing deeper insight into **which specific cut pairs differ in price**."
   ]
  },
  {
   "cell_type": "markdown",
   "metadata": {},
   "source": [
    "### **Two-Way ANOVA: Post Hoc Analysis**"
   ]
  },
  {
   "cell_type": "markdown",
   "metadata": {},
   "source": [
    "use diamonds_color_cut.csv import it to  diamonds_color_cut\n",
    "for model use model 3"
   ]
  },
  {
   "cell_type": "code",
   "execution_count": null,
   "metadata": {},
   "outputs": [],
   "source": []
  }
 ],
 "metadata": {
  "kernelspec": {
   "display_name": "venv",
   "language": "python",
   "name": "python3"
  },
  "language_info": {
   "codemirror_mode": {
    "name": "ipython",
    "version": 3
   },
   "file_extension": ".py",
   "mimetype": "text/x-python",
   "name": "python",
   "nbconvert_exporter": "python",
   "pygments_lexer": "ipython3",
   "version": "3.13.0"
  }
 },
 "nbformat": 4,
 "nbformat_minor": 2
}
